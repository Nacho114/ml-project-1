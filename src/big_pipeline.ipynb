{
 "cells": [
  {
   "cell_type": "code",
   "execution_count": 1,
   "metadata": {},
   "outputs": [],
   "source": [
    "# Useful starting lines\n",
    "%matplotlib inline\n",
    "import numpy as np\n",
    "import matplotlib.pyplot as plt\n",
    "%load_ext autoreload\n",
    "%autoreload 2"
   ]
  },
  {
   "cell_type": "code",
   "execution_count": 12,
   "metadata": {},
   "outputs": [],
   "source": [
    "from utils import loader\n",
    "from utils import debugger \n",
    "from utils import preprocessing as pp \n",
    "from utils import misc\n",
    "from utils import constant\n",
    "import implementations as impl\n",
    "import cost\n",
    "import model"
   ]
  },
  {
   "cell_type": "code",
   "execution_count": 5,
   "metadata": {},
   "outputs": [],
   "source": [
    "DATA_TRAIN_PATH = '../data/train.csv' # TODO: download train data and supply path here \n",
    "y, x, ids = loader.load_csv_data(DATA_TRAIN_PATH)"
   ]
  },
  {
   "cell_type": "code",
   "execution_count": 23,
   "metadata": {},
   "outputs": [],
   "source": [
    "to_replace = [(constant.UNDEF_VAL, 'most_frequent')]\n",
    "\n",
    "\n",
    "x_split, y_split = pp.preprocess_jet_num(x, y, to_replace, do_normalise=False, add_bias=True)"
   ]
  },
  {
   "cell_type": "code",
   "execution_count": 88,
   "metadata": {},
   "outputs": [],
   "source": [
    "data_part = []\n",
    "\n",
    "nb_samples = []\n",
    "for x_, y_ in zip(x_split, y_split):\n",
    "    train_data, test_data = misc.random_data_split(y_, x_, k_fold=10)\n",
    "    data = {'train': train_data, 'test': test_data}\n",
    "    data_part.append(data)\n",
    "    nb_samples.append(len(test_data[1]))"
   ]
  },
  {
   "cell_type": "code",
   "execution_count": 116,
   "metadata": {},
   "outputs": [
    {
     "name": "stdout",
     "output_type": "stream",
     "text": [
      "learning weights...\n",
      "done.\n",
      "learning weights...\n",
      "done.\n",
      "learning weights...\n",
      "done.\n",
      "learning weights...\n",
      "done.\n"
     ]
    }
   ],
   "source": [
    "models = []\n",
    "\n",
    "learning_param = {\n",
    "    'max_iters' : 200,\n",
    "    'gamma': 1e-6,\n",
    "    'lambda_': 1e-6\n",
    "}\n",
    "\n",
    "\n",
    "model_list = ['ridge_regression', 'ridge_regression', 'ridge_regression', 'ridge_regression']\n",
    "acc_list = []\n",
    "\n",
    "for idx in range(len(data_part)):\n",
    "    tx, y = data_part[idx]['train']\n",
    "    nb_features = tx.shape[1]\n",
    "    \n",
    "    w_initial = np.random.uniform(0,1,size=nb_features) \n",
    "    model_ls = model.Model(model_list[idx], w_initial, learning_param, debug=True)\n",
    "    \n",
    "    model_ls.learn_weights(y, tx)\n",
    "    models.append(model_ls)\n",
    "    \n",
    "    tx_te, y_te = data_part[idx]['test']\n",
    "    y_ = model_ls.predict(tx_te)\n",
    "    acc_list.append(misc.accuracy(y_te, y_))"
   ]
  },
  {
   "cell_type": "code",
   "execution_count": 117,
   "metadata": {},
   "outputs": [
    {
     "data": {
      "text/plain": [
       "0.7248979918393471"
      ]
     },
     "execution_count": 117,
     "metadata": {},
     "output_type": "execute_result"
    }
   ],
   "source": [
    "avg_acc = np.dot(acc_list, nb_samples) / sum(nb_samples)\n",
    "avg_acc"
   ]
  },
  {
   "cell_type": "code",
   "execution_count": 106,
   "metadata": {},
   "outputs": [
    {
     "data": {
      "text/plain": [
       "([0.8050245220698629,\n",
       "  0.6858395666752644,\n",
       "  0.7268215207464761,\n",
       "  0.7179602888086642],\n",
       " 24998,\n",
       " [9991, 7754, 5037, 2216])"
      ]
     },
     "execution_count": 106,
     "metadata": {},
     "output_type": "execute_result"
    }
   ],
   "source": [
    "acc_list, sum(nb_samples), nb_samples"
   ]
  },
  {
   "cell_type": "code",
   "execution_count": 34,
   "metadata": {},
   "outputs": [],
   "source": [
    "\n",
    "\n",
    "w_initial = np.random.uniform(0,1,size=nb_features) \n",
    "\n",
    "learning_param = {\n",
    "    'lambda_': 10e-5\n",
    "}\n",
    "\n",
    "\n",
    "model_ls = model.Model('ridge_regression', w_initial, learning_param, debug=True)"
   ]
  },
  {
   "cell_type": "code",
   "execution_count": 35,
   "metadata": {},
   "outputs": [
    {
     "name": "stdout",
     "output_type": "stream",
     "text": [
      "learning weights...\n",
      "done.\n"
     ]
    }
   ],
   "source": [
    "model_ls.learn_weights(y, tx)"
   ]
  },
  {
   "cell_type": "code",
   "execution_count": 36,
   "metadata": {},
   "outputs": [
    {
     "name": "stdout",
     "output_type": "stream",
     "text": [
      "Train accuracy 0.8167705904136598\n"
     ]
    }
   ],
   "source": [
    "y_ = model_ls.predict(tx)\n",
    "print('Train accuracy', misc.accuracy(y, y_))"
   ]
  },
  {
   "cell_type": "code",
   "execution_count": null,
   "metadata": {},
   "outputs": [],
   "source": []
  }
 ],
 "metadata": {
  "kernelspec": {
   "display_name": "Python 3",
   "language": "python",
   "name": "python3"
  },
  "language_info": {
   "codemirror_mode": {
    "name": "ipython",
    "version": 3
   },
   "file_extension": ".py",
   "mimetype": "text/x-python",
   "name": "python",
   "nbconvert_exporter": "python",
   "pygments_lexer": "ipython3",
   "version": "3.6.4"
  }
 },
 "nbformat": 4,
 "nbformat_minor": 2
}
