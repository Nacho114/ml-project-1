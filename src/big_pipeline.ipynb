{
 "cells": [
  {
   "cell_type": "code",
   "execution_count": 1,
   "metadata": {},
   "outputs": [],
   "source": [
    "# Useful starting lines\n",
    "%matplotlib inline\n",
    "import numpy as np\n",
    "import matplotlib.pyplot as plt\n",
    "%load_ext autoreload\n",
    "%autoreload 2"
   ]
  },
  {
   "cell_type": "code",
   "execution_count": 2,
   "metadata": {},
   "outputs": [],
   "source": [
    "from utils import loader\n",
    "from utils import debugger \n",
    "from utils import preprocessing as pp \n",
    "from utils import misc\n",
    "from utils import constant\n",
    "import implementations as impl\n",
    "import cost\n",
    "import model"
   ]
  },
  {
   "cell_type": "code",
   "execution_count": 3,
   "metadata": {},
   "outputs": [],
   "source": [
    "DATA_TRAIN_PATH = '../data/train.csv' # TODO: download train data and supply path here \n",
    "y, x, ids = loader.load_csv_data(DATA_TRAIN_PATH)"
   ]
  },
  {
   "cell_type": "code",
   "execution_count": 5,
   "metadata": {},
   "outputs": [
    {
     "name": "stdout",
     "output_type": "stream",
     "text": [
      "0 (99913, 30) (250000,)\n",
      "1 (77544, 30) (250000,)\n",
      "2 (72543, 30) (250000,)\n",
      "52.0356388092041\n"
     ]
    }
   ],
   "source": [
    "to_replace = [(constant.UNDEF_VAL, 'most_frequent')]\n",
    "\n",
    "augment_param = {\n",
    "    'degrees': [2],\n",
    "    'add_bias' : False,\n",
    "    'add_cross': True,\n",
    "    'add_tanh': False\n",
    "}\n",
    "\n",
    "import time\n",
    "\n",
    "start = time.time()\n",
    "\n",
    "\n",
    "x_split, y_split, jet_num_to_idx = pp.preprocess_jet_num(x, y, to_replace, do_normalise=True, augment_param=augment_param)\n",
    "\n",
    "end = time.time()\n",
    "print(end - start)"
   ]
  },
  {
   "cell_type": "code",
   "execution_count": 6,
   "metadata": {},
   "outputs": [
    {
     "data": {
      "text/plain": [
       "((72543, 464), (72543,))"
      ]
     },
     "execution_count": 6,
     "metadata": {},
     "output_type": "execute_result"
    }
   ],
   "source": [
    "x_split[2].shape, y_split[2].shape"
   ]
  },
  {
   "cell_type": "code",
   "execution_count": 7,
   "metadata": {},
   "outputs": [],
   "source": [
    "data_part = []\n",
    "\n",
    "nb_samples = []\n",
    "for x_, y_ in zip(x_split, y_split):\n",
    "    train_data, test_data = misc.random_data_split(y_, x_, k_fold=10)\n",
    "    data = {'train': train_data, 'test': test_data}\n",
    "    data_part.append(data)\n",
    "    nb_samples.append(len(test_data[1]))"
   ]
  },
  {
   "cell_type": "code",
   "execution_count": 8,
   "metadata": {},
   "outputs": [
    {
     "name": "stdout",
     "output_type": "stream",
     "text": [
      "learning weights...\n",
      "done.\n",
      "learning weights...\n",
      "done.\n",
      "learning weights...\n",
      "done.\n"
     ]
    }
   ],
   "source": [
    "models = []\n",
    "learning_param = { 'lambda_': 1e-5 }\n",
    "\n",
    "acc_list = []\n",
    "\n",
    "for idx in range(len(data_part)):\n",
    "    x_tr, y_tr = data_part[idx]['train']\n",
    "    nb_features = x_tr.shape[1]\n",
    "    \n",
    "    w_initial = np.random.uniform(0,1,size=nb_features) \n",
    "    model_ls = model.Model('ridge_regression', w_initial, learning_param, debug=True)\n",
    "    \n",
    "    model_ls.learn_weights(y_tr, x_tr)\n",
    "    models.append(model_ls)\n",
    "    \n",
    "    tx_te, y_te = data_part[idx]['test']\n",
    "    y_ = model_ls.predict(tx_te)\n",
    "    acc_list.append(misc.accuracy(y_te, y_))"
   ]
  },
  {
   "cell_type": "code",
   "execution_count": 9,
   "metadata": {},
   "outputs": [
    {
     "data": {
      "text/plain": [
       "[0.8330497447702933, 0.7788238328604591, 0.8001102839812517]"
      ]
     },
     "execution_count": 9,
     "metadata": {},
     "output_type": "execute_result"
    }
   ],
   "source": [
    "acc_list"
   ]
  },
  {
   "cell_type": "code",
   "execution_count": 10,
   "metadata": {},
   "outputs": [
    {
     "data": {
      "text/plain": [
       "0.8066722668906756"
      ]
     },
     "execution_count": 10,
     "metadata": {},
     "output_type": "execute_result"
    }
   ],
   "source": [
    "avg_acc = np.dot(acc_list, nb_samples) / sum(nb_samples)\n",
    "avg_acc"
   ]
  },
  {
   "cell_type": "code",
   "execution_count": 11,
   "metadata": {},
   "outputs": [],
   "source": [
    "# Save weights\n",
    "weights = [trained_model.w for trained_model in models]\n",
    "file_name = 'weights.npy'\n",
    "np.save(file_name, weights) # save"
   ]
  },
  {
   "cell_type": "code",
   "execution_count": 12,
   "metadata": {},
   "outputs": [
    {
     "data": {
      "text/plain": [
       "(464,)"
      ]
     },
     "execution_count": 12,
     "metadata": {},
     "output_type": "execute_result"
    }
   ],
   "source": [
    "weights[2].shape"
   ]
  },
  {
   "cell_type": "code",
   "execution_count": 13,
   "metadata": {},
   "outputs": [],
   "source": [
    "weights_from_file = np.load(file_name) # load"
   ]
  },
  {
   "cell_type": "code",
   "execution_count": 14,
   "metadata": {},
   "outputs": [
    {
     "data": {
      "text/plain": [
       "(209,)"
      ]
     },
     "execution_count": 14,
     "metadata": {},
     "output_type": "execute_result"
    }
   ],
   "source": [
    "weights_from_file[0].shape"
   ]
  }
 ],
 "metadata": {
  "kernelspec": {
   "display_name": "Python 3",
   "language": "python",
   "name": "python3"
  },
  "language_info": {
   "codemirror_mode": {
    "name": "ipython",
    "version": 3
   },
   "file_extension": ".py",
   "mimetype": "text/x-python",
   "name": "python",
   "nbconvert_exporter": "python",
   "pygments_lexer": "ipython3",
   "version": "3.6.5"
  }
 },
 "nbformat": 4,
 "nbformat_minor": 2
}
