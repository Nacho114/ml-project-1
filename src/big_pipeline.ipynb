{
 "cells": [
  {
   "cell_type": "code",
   "execution_count": 1,
   "metadata": {},
   "outputs": [],
   "source": [
    "# Useful starting lines\n",
    "%matplotlib inline\n",
    "import numpy as np\n",
    "import matplotlib.pyplot as plt\n",
    "%load_ext autoreload\n",
    "%autoreload 2"
   ]
  },
  {
   "cell_type": "code",
   "execution_count": 2,
   "metadata": {},
   "outputs": [],
   "source": [
    "from utils import loader\n",
    "from utils import debugger \n",
    "from utils import preprocessing as pp \n",
    "from utils import misc\n",
    "from utils import constant\n",
    "import implementations as impl\n",
    "import cost\n",
    "import model"
   ]
  },
  {
   "cell_type": "code",
   "execution_count": 3,
   "metadata": {},
   "outputs": [],
   "source": [
    "DATA_TRAIN_PATH = '../data/train.csv' # TODO: download train data and supply path here \n",
    "y, x, ids = loader.load_csv_data(DATA_TRAIN_PATH)"
   ]
  },
  {
   "cell_type": "code",
   "execution_count": 72,
   "metadata": {},
   "outputs": [],
   "source": [
    "to_replace = [(constant.UNDEF_VAL, 'most_frequent')]\n",
    "\n",
    "augment_param = {\n",
    "    'degree': [2],\n",
    "    'add_bias' : True\n",
    "}\n",
    "\n",
    "x_split, y_split = pp.preprocess_jet_num(x, y, to_replace, do_normalise=False, augment_param=augment_param)"
   ]
  },
  {
   "cell_type": "code",
   "execution_count": 73,
   "metadata": {},
   "outputs": [
    {
     "data": {
      "text/plain": [
       "((72543, 58), (72543,))"
      ]
     },
     "execution_count": 73,
     "metadata": {},
     "output_type": "execute_result"
    }
   ],
   "source": [
    "x_split[2].shape, y_split[2].shape"
   ]
  },
  {
   "cell_type": "code",
   "execution_count": 74,
   "metadata": {},
   "outputs": [],
   "source": [
    "data_part = []\n",
    "\n",
    "nb_samples = []\n",
    "for x_, y_ in zip(x_split, y_split):\n",
    "    train_data, test_data = misc.random_data_split(y_, x_, k_fold=10)\n",
    "    data = {'train': train_data, 'test': test_data}\n",
    "    data_part.append(data)\n",
    "    nb_samples.append(len(test_data[1]))"
   ]
  },
  {
   "cell_type": "code",
   "execution_count": 75,
   "metadata": {},
   "outputs": [
    {
     "name": "stdout",
     "output_type": "stream",
     "text": [
      "learning weights...\n",
      "done.\n",
      "learning weights...\n",
      "done.\n",
      "learning weights...\n",
      "done.\n"
     ]
    }
   ],
   "source": [
    "models = []\n",
    "learning_param = { 'lambda_': 1e-6 }\n",
    "\n",
    "acc_list = []\n",
    "\n",
    "for idx in range(len(data_part)):\n",
    "    x_tr, y_tr = data_part[idx]['train']\n",
    "    nb_features = x_tr.shape[1]\n",
    "    \n",
    "    w_initial = np.random.uniform(0,1,size=nb_features) \n",
    "    model_ls = model.Model('ridge_regression', w_initial, learning_param, debug=True)\n",
    "    \n",
    "    model_ls.learn_weights(y_tr, x_tr)\n",
    "    models.append(model_ls)\n",
    "    \n",
    "    tx_te, y_te = data_part[idx]['test']\n",
    "    y_ = model_ls.predict(tx_te)\n",
    "    acc_list.append(misc.accuracy(y_te, y_))"
   ]
  },
  {
   "cell_type": "code",
   "execution_count": 76,
   "metadata": {},
   "outputs": [
    {
     "data": {
      "text/plain": [
       "[0.8342508257431689, 0.7369099819448027, 0.7518610421836228]"
      ]
     },
     "execution_count": 76,
     "metadata": {},
     "output_type": "execute_result"
    }
   ],
   "source": [
    "acc_list"
   ]
  },
  {
   "cell_type": "code",
   "execution_count": 77,
   "metadata": {},
   "outputs": [
    {
     "data": {
      "text/plain": [
       "0.780151206048242"
      ]
     },
     "execution_count": 77,
     "metadata": {},
     "output_type": "execute_result"
    }
   ],
   "source": [
    "avg_acc = np.dot(acc_list, nb_samples) / sum(nb_samples)\n",
    "avg_acc"
   ]
  },
  {
   "cell_type": "code",
   "execution_count": 63,
   "metadata": {},
   "outputs": [],
   "source": [
    "# Save weights\n",
    "weights = [trained_model.w for trained_model in models]\n",
    "file_name = 'weights.npy'\n",
    "np.save(file_name, weights) # save"
   ]
  },
  {
   "cell_type": "code",
   "execution_count": 68,
   "metadata": {},
   "outputs": [
    {
     "data": {
      "text/plain": [
       "(59,)"
      ]
     },
     "execution_count": 68,
     "metadata": {},
     "output_type": "execute_result"
    }
   ],
   "source": [
    "weights[2].shape"
   ]
  },
  {
   "cell_type": "code",
   "execution_count": 69,
   "metadata": {},
   "outputs": [],
   "source": [
    "weights_from_file = np.load(file_name) # load"
   ]
  },
  {
   "cell_type": "code",
   "execution_count": 70,
   "metadata": {},
   "outputs": [
    {
     "data": {
      "text/plain": [
       "array([array([-8.92467092e-01,  2.42072107e-03, -1.39349889e-02, -1.93397235e-02,\n",
       "       -4.42529916e-04,  2.57448174e-01, -4.40895262e-04,  1.64388757e-02,\n",
       "       -5.52563331e-01, -2.47942257e-04,  5.22258543e-03,  1.46145895e-03,\n",
       "        3.20300570e-05,  1.11976432e-02,  1.74666105e-03, -6.95186448e-04,\n",
       "       -7.71000745e-04, -2.45542530e-03,  1.51323987e-04, -2.50147125e-15,\n",
       "       -8.51626118e-06,  7.54177135e-05,  2.95311033e-05, -1.41181802e-05,\n",
       "        7.11987829e-02,  1.66355492e-05,  6.78147092e-05,  9.50671246e-02,\n",
       "       -3.52168794e-02, -1.59230154e-04, -1.80315716e-02,  7.18470606e-04,\n",
       "       -2.94548835e-04, -2.81313172e-02,  1.07487105e-03, -2.92193999e-06,\n",
       "        1.21975115e-03,  1.20624671e-06,  0.00000000e+00]),\n",
       "       array([-2.36504303e+00,  5.00676290e-03, -7.79622666e-03, -9.59765380e-03,\n",
       "       -1.96411747e-03,  9.27180117e-01,  1.81445887e-03,  7.77361889e-03,\n",
       "       -1.00737017e-01,  7.80630369e-02,  1.03673090e-02,  3.67150337e-03,\n",
       "       -2.07089571e-03,  1.72475648e-03, -3.72988371e-03, -2.39476892e-04,\n",
       "        5.36219233e-04,  1.86831439e-03,  7.90465352e-04, -1.64038264e-03,\n",
       "       -8.09187938e-04, -1.20827186e-03, -1.18947395e-03, -8.33101335e-06,\n",
       "        2.30684524e-05,  1.55996607e-05,  1.10864730e-05, -1.41449737e-01,\n",
       "        2.20494645e-06,  9.88842007e-06,  1.56700587e-02,  3.24910059e-02,\n",
       "       -8.86994166e-05, -2.46679008e-02,  1.95430299e-04, -6.79818567e-05,\n",
       "       -4.19934271e-02,  1.78011110e-03,  3.88488541e-06,  2.08514311e-04,\n",
       "       -2.37997581e-06, -1.58332830e-01,  4.12630399e-02,  4.96115676e-04,\n",
       "        1.58303159e-01]),\n",
       "       array([ 8.51917689e-02,  6.17514210e-03, -6.27664186e-03, -8.76473035e-04,\n",
       "        1.01207764e-03, -2.34057157e-01,  1.00068751e-03, -1.68331392e-04,\n",
       "        2.31409322e-01, -4.31038436e-03,  1.71442561e-03, -2.80975169e-01,\n",
       "        7.52068336e-02,  1.72206338e-01, -1.69987888e-03, -5.81360217e-03,\n",
       "        4.31850475e-04,  6.35170786e-03, -4.67162907e-03,  2.62589280e-03,\n",
       "        2.23961433e-04,  1.64608055e-03, -2.82704240e-03,  7.97958715e-04,\n",
       "        3.17862020e-03,  4.81054784e-03,  1.82938329e-03,  2.98149767e-03,\n",
       "       -3.58103627e-05, -2.93310590e-03, -9.22590155e-06,  1.26157556e-05,\n",
       "        3.52759228e-07,  3.43859693e-06,  2.99389144e-02, -2.51621257e-07,\n",
       "       -2.60814097e-03, -5.83186747e-02,  2.71377102e-05,  9.83561285e-08,\n",
       "        2.12393148e-02,  6.18154944e-02,  1.95033602e-01, -3.13525582e-06,\n",
       "       -4.00199071e-02, -1.12615358e-02, -2.35144810e-05, -4.13415386e-02,\n",
       "       -1.31362942e-02, -9.43975425e-07, -9.91071176e-03,  2.32056996e-06,\n",
       "       -2.82505093e-06,  1.74848113e-02, -1.91316630e-02, -1.05745908e-06,\n",
       "        1.21360622e-02, -1.33578894e-02, -1.24615985e-06])], dtype=object)"
      ]
     },
     "execution_count": 70,
     "metadata": {},
     "output_type": "execute_result"
    }
   ],
   "source": []
  },
  {
   "cell_type": "code",
   "execution_count": null,
   "metadata": {},
   "outputs": [],
   "source": []
  }
 ],
 "metadata": {
  "kernelspec": {
   "display_name": "Python 3",
   "language": "python",
   "name": "python3"
  },
  "language_info": {
   "codemirror_mode": {
    "name": "ipython",
    "version": 3
   },
   "file_extension": ".py",
   "mimetype": "text/x-python",
   "name": "python",
   "nbconvert_exporter": "python",
   "pygments_lexer": "ipython3",
   "version": "3.6.4"
  }
 },
 "nbformat": 4,
 "nbformat_minor": 2
}
