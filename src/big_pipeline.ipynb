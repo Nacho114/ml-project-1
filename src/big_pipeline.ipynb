{
 "cells": [
  {
   "cell_type": "code",
   "execution_count": 1,
   "metadata": {},
   "outputs": [],
   "source": [
    "# Useful starting lines\n",
    "%matplotlib inline\n",
    "import numpy as np\n",
    "import matplotlib.pyplot as plt\n",
    "%load_ext autoreload\n",
    "%autoreload 2"
   ]
  },
  {
   "cell_type": "code",
   "execution_count": 2,
   "metadata": {},
   "outputs": [],
   "source": [
    "from utils import loader\n",
    "from utils import debugger \n",
    "from utils import preprocessing as pp \n",
    "from utils import misc\n",
    "from utils import constant\n",
    "import implementations as impl\n",
    "import cost\n",
    "import model"
   ]
  },
  {
   "cell_type": "code",
   "execution_count": 3,
   "metadata": {},
   "outputs": [],
   "source": [
    "DATA_TRAIN_PATH = '../data/train.csv' # TODO: download train data and supply path here \n",
    "y, x, ids = loader.load_csv_data(DATA_TRAIN_PATH)"
   ]
  },
  {
   "cell_type": "code",
   "execution_count": 5,
   "metadata": {},
   "outputs": [
    {
     "name": "stdout",
     "output_type": "stream",
     "text": [
      "787.7394399642944\n"
     ]
    }
   ],
   "source": [
    "to_replace = [(constant.UNDEF_VAL, 'mean')]\n",
    "\n",
    "augment_param_0 = {\n",
    "    'degrees': [2,3],\n",
    "    'add_bias' : True,\n",
    "    'add_cross': True,\n",
    "    'add_tanh': True,\n",
    "    'cumulative': False\n",
    "}\n",
    "\n",
    "augment_param_1 = {\n",
    "    'degrees': [2],\n",
    "    'add_bias' : True,\n",
    "    'add_cross': True,\n",
    "    'add_tanh': True,\n",
    "    'cumulative': True\n",
    "}\n",
    "\n",
    "augment_param_23 = {\n",
    "    'degrees': [2],\n",
    "    'add_bias' : True,\n",
    "    'add_cross': True,\n",
    "    'add_tanh': True,\n",
    "    'cumulative': True\n",
    "}\n",
    "\n",
    "augment_param_list = [augment_param_0, augment_param_1, augment_param_23]\n",
    "\n",
    "import time\n",
    "\n",
    "start = time.time()\n",
    "\n",
    "\n",
    "x_split, y_split, jet_num_to_idx = pp.preprocess_jet_num(x, y, to_replace, do_normalise=True, augment_param_list=augment_param_list)\n",
    "\n",
    "end = time.time()\n",
    "print(end - start)"
   ]
  },
  {
   "cell_type": "code",
   "execution_count": 6,
   "metadata": {},
   "outputs": [],
   "source": [
    "def train_and_eval(data_part):\n",
    "\n",
    "    models = []\n",
    "\n",
    "    learning_param = {\n",
    "            'lambda_': 1e-6,\n",
    "            'gamma': 1e-6,\n",
    "            'max_iters': 200\n",
    "    }\n",
    "\n",
    "    # lambdas = np.logspace(-4, 0, 30)\n",
    "    # lambdas = [0, 1e-8, 1e-7, 1e-6, 1e-5, 1e-4]\n",
    "    lambdas = [learning_param['lambda_']]\n",
    "\n",
    "    acc_list = [[] for _ in lambdas]\n",
    "\n",
    "    for i, lambda_ in enumerate(lambdas):\n",
    "        learning_param['lambda_'] = lambda_\n",
    "\n",
    "        for idx in range(len(data_part)):\n",
    "            x_tr, y_tr = data_part[idx]['train']\n",
    "            nb_features = x_tr.shape[1]\n",
    "\n",
    "            w_initial = np.random.uniform(0,1,size=nb_features) \n",
    "            model_ls = model.Model('ridge_regression', w_initial, learning_param, debug=True)\n",
    "\n",
    "            model_ls.learn_weights(y_tr, x_tr)\n",
    "            models.append(model_ls)\n",
    "\n",
    "            tx_te, y_te = data_part[idx]['test']\n",
    "            y_ = model_ls.predict(tx_te)\n",
    "            acc_list[i].append(misc.accuracy(y_te, y_))\n",
    "            \n",
    "    return acc_list, nb_samples"
   ]
  },
  {
   "cell_type": "code",
   "execution_count": null,
   "metadata": {},
   "outputs": [],
   "source": [
    "cumul_eval = []\n",
    "\n",
    "nb_runs = 10\n",
    "\n",
    "for idx in range(nb_runs):\n",
    "    print('{} out of {}', idx + 1, nb_runs)\n",
    "    data_part = []\n",
    "\n",
    "    nb_samples = []\n",
    "    for x_, y_ in zip(x_split, y_split):\n",
    "        train_data, test_data = misc.random_data_split(y_, x_, k_fold=10)\n",
    "        data = {'train': train_data, 'test': test_data}\n",
    "        data_part.append(data)\n",
    "        nb_samples.append(len(test_data[1]))\n",
    "        \n",
    "    eval_result = train_and_eval(data_part)\n",
    "    cumul_eval.append(eval_result)"
   ]
  },
  {
   "cell_type": "code",
   "execution_count": 23,
   "metadata": {
    "scrolled": true
   },
   "outputs": [
    {
     "data": {
      "text/plain": [
       "array([0.79416532])"
      ]
     },
     "execution_count": 23,
     "metadata": {},
     "output_type": "execute_result"
    }
   ],
   "source": [
    "avg_acc = np.dot(acc_list, nb_samples) / sum(nb_samples)\n",
    "avg_acc"
   ]
  },
  {
   "cell_type": "code",
   "execution_count": null,
   "metadata": {},
   "outputs": [],
   "source": []
  }
 ],
 "metadata": {
  "kernelspec": {
   "display_name": "Python 3",
   "language": "python",
   "name": "python3"
  },
  "language_info": {
   "codemirror_mode": {
    "name": "ipython",
    "version": 3
   },
   "file_extension": ".py",
   "mimetype": "text/x-python",
   "name": "python",
   "nbconvert_exporter": "python",
   "pygments_lexer": "ipython3",
   "version": "3.6.5"
  }
 },
 "nbformat": 4,
 "nbformat_minor": 2
}
