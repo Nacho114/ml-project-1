{
 "cells": [
  {
   "cell_type": "code",
   "execution_count": 1,
   "metadata": {},
   "outputs": [],
   "source": [
    "# Useful starting lines\n",
    "%matplotlib inline\n",
    "import numpy as np\n",
    "import matplotlib.pyplot as plt\n",
    "%load_ext autoreload\n",
    "%autoreload 2"
   ]
  },
  {
   "cell_type": "code",
   "execution_count": 2,
   "metadata": {},
   "outputs": [],
   "source": [
    "from utils import loader\n",
    "from utils import debugger \n",
    "from utils import preprocessing as pp \n",
    "from utils import misc\n",
    "from utils import constant\n",
    "import implementations as impl\n",
    "import cost\n",
    "import model"
   ]
  },
  {
   "cell_type": "code",
   "execution_count": 3,
   "metadata": {},
   "outputs": [],
   "source": [
    "DATA_TRAIN_PATH = '../data/train.csv' # TODO: download train data and supply path here \n",
    "y, x, ids = loader.load_csv_data(DATA_TRAIN_PATH)"
   ]
  },
  {
   "cell_type": "code",
   "execution_count": 4,
   "metadata": {},
   "outputs": [
    {
     "name": "stdout",
     "output_type": "stream",
     "text": [
      "700.8710989952087\n"
     ]
    }
   ],
   "source": [
    "to_replace = [(constant.UNDEF_VAL, 'mean')]\n",
    "\n",
    "augment_param_0 = {\n",
    "    'degrees': [2,3],\n",
    "    'add_bias' : True,\n",
    "    'add_cross': True,\n",
    "    'add_tanh': True,\n",
    "    'cumulative': False\n",
    "}\n",
    "\n",
    "augment_param_1 = {\n",
    "    'degrees': [2],\n",
    "    'add_bias' : True,\n",
    "    'add_cross': True,\n",
    "    'add_tanh': True,\n",
    "    'cumulative': True\n",
    "}\n",
    "\n",
    "augment_param_23 = {\n",
    "    'degrees': [2],\n",
    "    'add_bias' : True,\n",
    "    'add_cross': True,\n",
    "    'add_tanh': True,\n",
    "    'cumulative': True\n",
    "}\n",
    "\n",
    "augment_param_list = [augment_param_0, augment_param_1, augment_param_23]\n",
    "\n",
    "import time\n",
    "\n",
    "start = time.time()\n",
    "\n",
    "\n",
    "x_split, y_split, jet_num_to_idx = pp.preprocess_jet_num(x, y, to_replace, do_normalise=True, augment_param_list=augment_param_list)\n",
    "\n",
    "end = time.time()\n",
    "print(end - start)"
   ]
  },
  {
   "cell_type": "code",
   "execution_count": 5,
   "metadata": {},
   "outputs": [],
   "source": [
    "def train_and_eval(data_part):\n",
    "\n",
    "    models = []\n",
    "\n",
    "    learning_param = {\n",
    "            'lambda_': 1e-6,\n",
    "            'gamma': 1e-6,\n",
    "            'max_iters': 200\n",
    "    }\n",
    "\n",
    "    # lambdas = np.logspace(-4, 0, 30)\n",
    "    # lambdas = [0, 1e-8, 1e-7, 1e-6, 1e-5, 1e-4]\n",
    "    lambdas = [learning_param['lambda_']]\n",
    "\n",
    "    acc_list = [[] for _ in lambdas]\n",
    "\n",
    "    for i, lambda_ in enumerate(lambdas):\n",
    "        learning_param['lambda_'] = lambda_\n",
    "\n",
    "        for idx in range(len(data_part)):\n",
    "            x_tr, y_tr = data_part[idx]['train']\n",
    "            nb_features = x_tr.shape[1]\n",
    "\n",
    "            w_initial = np.random.uniform(0,1,size=nb_features) \n",
    "            model_ls = model.Model('ridge_regression', w_initial, learning_param, debug=True)\n",
    "\n",
    "            model_ls.learn_weights(y_tr, x_tr)\n",
    "            models.append(model_ls)\n",
    "\n",
    "            tx_te, y_te = data_part[idx]['test']\n",
    "            y_ = model_ls.predict(tx_te)\n",
    "            acc_list[i].append(misc.accuracy(y_te, y_))\n",
    "            \n",
    "    return acc_list, nb_samples"
   ]
  },
  {
   "cell_type": "code",
   "execution_count": 8,
   "metadata": {},
   "outputs": [
    {
     "name": "stdout",
     "output_type": "stream",
     "text": [
      "1 out of 4\n",
      "learning weights...\n",
      "done.\n",
      "learning weights...\n",
      "done.\n",
      "learning weights...\n",
      "done.\n",
      "2 out of 4\n",
      "learning weights...\n",
      "done.\n",
      "learning weights...\n",
      "done.\n",
      "learning weights...\n",
      "done.\n",
      "3 out of 4\n",
      "learning weights...\n",
      "done.\n",
      "learning weights...\n",
      "done.\n",
      "learning weights...\n",
      "done.\n",
      "4 out of 4\n",
      "learning weights...\n",
      "done.\n",
      "learning weights...\n",
      "done.\n",
      "learning weights...\n",
      "done.\n"
     ]
    }
   ],
   "source": [
    "cumul_eval = []\n",
    "\n",
    "nb_runs = 4\n",
    "\n",
    "for idx in range(nb_runs):\n",
    "    print(idx + 1, 'out of', nb_runs)\n",
    "    data_part = []\n",
    "\n",
    "    nb_samples = []\n",
    "    for x_, y_ in zip(x_split, y_split):\n",
    "        train_data, test_data = misc.random_data_split(y_, x_, k_fold=10)\n",
    "        data = {'train': train_data, 'test': test_data}\n",
    "        data_part.append(data)\n",
    "        nb_samples.append(len(test_data[1]))\n",
    "        \n",
    "    eval_result = train_and_eval(data_part)\n",
    "    cumul_eval.append(eval_result)"
   ]
  },
  {
   "cell_type": "code",
   "execution_count": 9,
   "metadata": {},
   "outputs": [
    {
     "data": {
      "text/plain": [
       "[([[0.8333500150135121, 0.8209956151663658, 0.8493245106148332]],\n",
       "  [9991, 7754, 7254]),\n",
       " ([[0.8354519067160444, 0.8163528501418623, 0.8496002205679625]],\n",
       "  [9991, 7754, 7254]),\n",
       " ([[0.8469622660394355, 0.8211245808614909, 0.8497380755445272]],\n",
       "  [9991, 7754, 7254]),\n",
       " ([[0.8461615453908518, 0.8193190611297395, 0.8534601599117728]],\n",
       "  [9991, 7754, 7254])]"
      ]
     },
     "execution_count": 9,
     "metadata": {},
     "output_type": "execute_result"
    }
   ],
   "source": [
    "cumul_eval"
   ]
  },
  {
   "cell_type": "code",
   "execution_count": 29,
   "metadata": {},
   "outputs": [],
   "source": [
    "# Determine the mean and std of data splitted on jet_num (and accumulated)\n",
    "x_0 = []\n",
    "x_1 = []\n",
    "x_23 = []\n",
    "avg_accs = []\n",
    "for i in range(4):\n",
    "    x_0.append(cumul_eval[i][0][0][0])\n",
    "    x_1.append(cumul_eval[i][0][0][1])\n",
    "    x_23.append(cumul_eval[i][0][0][2])\n",
    "    avg_accs.append(np.dot(cumul_eval[i][0][0], nb_samples) / sum(nb_samples))"
   ]
  },
  {
   "cell_type": "code",
   "execution_count": 32,
   "metadata": {},
   "outputs": [
    {
     "name": "stdout",
     "output_type": "stream",
     "text": [
      "0.8404814332899608 0.006132253476429942\n",
      "0.8194480268248647 0.001923708265434125\n",
      "0.8505307416597738 0.0016978422851879889\n"
     ]
    },
    {
     "data": {
      "text/plain": [
       "(0.8368734749389977, 0.0029866224366019833)"
      ]
     },
     "execution_count": 32,
     "metadata": {},
     "output_type": "execute_result"
    }
   ],
   "source": [
    "print(np.mean(x_0), np.std(x_0))\n",
    "print(np.mean(x_1), np.std(x_1))\n",
    "print(np.mean(x_23), np.std(x_23))\n",
    "np.mean(avg_accs), np.std(avg_accs)"
   ]
  },
  {
   "cell_type": "code",
   "execution_count": null,
   "metadata": {},
   "outputs": [],
   "source": []
  }
 ],
 "metadata": {
  "kernelspec": {
   "display_name": "Python 3",
   "language": "python",
   "name": "python3"
  },
  "language_info": {
   "codemirror_mode": {
    "name": "ipython",
    "version": 3
   },
   "file_extension": ".py",
   "mimetype": "text/x-python",
   "name": "python",
   "nbconvert_exporter": "python",
   "pygments_lexer": "ipython3",
   "version": "3.7.4"
  }
 },
 "nbformat": 4,
 "nbformat_minor": 2
}
