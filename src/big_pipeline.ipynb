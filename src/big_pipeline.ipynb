{
 "cells": [
  {
   "cell_type": "code",
   "execution_count": 266,
   "metadata": {},
   "outputs": [
    {
     "name": "stdout",
     "output_type": "stream",
     "text": [
      "The autoreload extension is already loaded. To reload it, use:\n",
      "  %reload_ext autoreload\n"
     ]
    }
   ],
   "source": [
    "# Useful starting lines\n",
    "%matplotlib inline\n",
    "import numpy as np\n",
    "import matplotlib.pyplot as plt\n",
    "%load_ext autoreload\n",
    "%autoreload 2"
   ]
  },
  {
   "cell_type": "code",
   "execution_count": 267,
   "metadata": {},
   "outputs": [],
   "source": [
    "from utils import loader\n",
    "from utils import debugger \n",
    "from utils import preprocessing as pp \n",
    "from utils import misc\n",
    "from utils import constant\n",
    "import implementations as impl\n",
    "import cost\n",
    "import model"
   ]
  },
  {
   "cell_type": "code",
   "execution_count": 268,
   "metadata": {},
   "outputs": [],
   "source": [
    "DATA_TRAIN_PATH = '../data/train.csv' # TODO: download train data and supply path here \n",
    "y, x, ids = loader.load_csv_data(DATA_TRAIN_PATH)"
   ]
  },
  {
   "cell_type": "code",
   "execution_count": 93,
   "metadata": {},
   "outputs": [
    {
     "name": "stdout",
     "output_type": "stream",
     "text": [
      "85.25590682029724\n"
     ]
    }
   ],
   "source": [
    "to_replace = [(constant.UNDEF_VAL, 'most_frequent')]\n",
    "\n",
    "augment_param = {\n",
    "    'degrees': [2],\n",
    "    'add_bias' : True,\n",
    "    'add_cross': True,\n",
    "    'add_tanh': False\n",
    "}\n",
    "\n",
    "import time\n",
    "\n",
    "start = time.time()\n",
    "\n",
    "\n",
    "x_split, y_split = pp.preprocess_jet_num(x, y, to_replace, do_normalise=False, augment_param=augment_param)\n",
    "\n",
    "end = time.time()\n",
    "print(end - start)"
   ]
  },
  {
   "cell_type": "code",
   "execution_count": 289,
   "metadata": {},
   "outputs": [
    {
     "data": {
      "text/plain": [
       "((72543, 465), (72543,))"
      ]
     },
     "execution_count": 289,
     "metadata": {},
     "output_type": "execute_result"
    }
   ],
   "source": [
    "x_split[2].shape, y_split[2].shape"
   ]
  },
  {
   "cell_type": "code",
   "execution_count": 290,
   "metadata": {},
   "outputs": [],
   "source": [
    "data_part = []\n",
    "\n",
    "nb_samples = []\n",
    "for x_, y_ in zip(x_split, y_split):\n",
    "    train_data, test_data = misc.random_data_split(y_, x_, k_fold=10)\n",
    "    data = {'train': train_data, 'test': test_data}\n",
    "    data_part.append(data)\n",
    "    nb_samples.append(len(test_data[1]))"
   ]
  },
  {
   "cell_type": "code",
   "execution_count": 291,
   "metadata": {},
   "outputs": [
    {
     "name": "stdout",
     "output_type": "stream",
     "text": [
      "learning weights...\n",
      "done.\n",
      "learning weights...\n",
      "done.\n",
      "learning weights...\n",
      "done.\n"
     ]
    }
   ],
   "source": [
    "models = []\n",
    "learning_param = { 'lambda_': 1e-5 }\n",
    "\n",
    "acc_list = []\n",
    "\n",
    "for idx in range(len(data_part)):\n",
    "    x_tr, y_tr = data_part[idx]['train']\n",
    "    nb_features = x_tr.shape[1]\n",
    "    \n",
    "    w_initial = np.random.uniform(0,1,size=nb_features) \n",
    "    model_ls = model.Model('ridge_regression', w_initial, learning_param, debug=True)\n",
    "    \n",
    "    model_ls.learn_weights(y_tr, x_tr)\n",
    "    models.append(model_ls)\n",
    "    \n",
    "    tx_te, y_te = data_part[idx]['test']\n",
    "    y_ = model_ls.predict(tx_te)\n",
    "    acc_list.append(misc.accuracy(y_te, y_))"
   ]
  },
  {
   "cell_type": "code",
   "execution_count": 292,
   "metadata": {},
   "outputs": [
    {
     "data": {
      "text/plain": [
       "[0.8215393854469022, 0.7571575960794429, 0.7513096222773642]"
      ]
     },
     "execution_count": 292,
     "metadata": {},
     "output_type": "execute_result"
    }
   ],
   "source": [
    "acc_list"
   ]
  },
  {
   "cell_type": "code",
   "execution_count": 293,
   "metadata": {},
   "outputs": [
    {
     "data": {
      "text/plain": [
       "0.781191247649906"
      ]
     },
     "execution_count": 293,
     "metadata": {},
     "output_type": "execute_result"
    }
   ],
   "source": [
    "avg_acc = np.dot(acc_list, nb_samples) / sum(nb_samples)\n",
    "avg_acc"
   ]
  },
  {
   "cell_type": "code",
   "execution_count": 213,
   "metadata": {},
   "outputs": [],
   "source": [
    "# Save weights\n",
    "weights = [trained_model.w for trained_model in models]\n",
    "file_name = 'weights.npy'\n",
    "np.save(file_name, weights) # save"
   ]
  },
  {
   "cell_type": "code",
   "execution_count": 214,
   "metadata": {},
   "outputs": [
    {
     "data": {
      "text/plain": [
       "(465,)"
      ]
     },
     "execution_count": 214,
     "metadata": {},
     "output_type": "execute_result"
    }
   ],
   "source": [
    "weights[2].shape"
   ]
  },
  {
   "cell_type": "code",
   "execution_count": 215,
   "metadata": {},
   "outputs": [],
   "source": [
    "weights_from_file = np.load(file_name) # load"
   ]
  },
  {
   "cell_type": "code",
   "execution_count": 216,
   "metadata": {},
   "outputs": [
    {
     "data": {
      "text/plain": [
       "(210,)"
      ]
     },
     "execution_count": 216,
     "metadata": {},
     "output_type": "execute_result"
    }
   ],
   "source": [
    "weights_from_file[0].shape"
   ]
  },
  {
   "cell_type": "code",
   "execution_count": 261,
   "metadata": {},
   "outputs": [],
   "source": [
    "x = np.array([[1, 2], [3, 4], [5, 6]])"
   ]
  },
  {
   "cell_type": "code",
   "execution_count": 262,
   "metadata": {},
   "outputs": [],
   "source": [
    "def tanh(x):\n",
    "    return np.tanh(x)"
   ]
  },
  {
   "cell_type": "code",
   "execution_count": 264,
   "metadata": {},
   "outputs": [
    {
     "name": "stdout",
     "output_type": "stream",
     "text": [
      "[[1 2]\n",
      " [3 4]\n",
      " [5 6]]\n"
     ]
    },
    {
     "data": {
      "text/plain": [
       "array([[0.76159416, 0.96402758],\n",
       "       [0.99505475, 0.9993293 ],\n",
       "       [0.9999092 , 0.99998771]])"
      ]
     },
     "execution_count": 264,
     "metadata": {},
     "output_type": "execute_result"
    }
   ],
   "source": [
    "print(x)\n",
    "tanh(x)"
   ]
  }
 ],
 "metadata": {
  "kernelspec": {
   "display_name": "Python 3",
   "language": "python",
   "name": "python3"
  },
  "language_info": {
   "codemirror_mode": {
    "name": "ipython",
    "version": 3
   },
   "file_extension": ".py",
   "mimetype": "text/x-python",
   "name": "python",
   "nbconvert_exporter": "python",
   "pygments_lexer": "ipython3",
   "version": "3.6.5"
  }
 },
 "nbformat": 4,
 "nbformat_minor": 2
}