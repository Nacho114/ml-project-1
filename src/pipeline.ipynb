{
 "cells": [
  {
   "cell_type": "code",
   "execution_count": 26,
   "metadata": {},
   "outputs": [
    {
     "name": "stdout",
     "output_type": "stream",
     "text": [
      "The autoreload extension is already loaded. To reload it, use:\n",
      "  %reload_ext autoreload\n"
     ]
    }
   ],
   "source": [
    "# Useful starting lines\n",
    "%matplotlib inline\n",
    "import numpy as np\n",
    "import matplotlib.pyplot as plt\n",
    "%load_ext autoreload\n",
    "%autoreload 2"
   ]
  },
  {
   "cell_type": "code",
   "execution_count": 27,
   "metadata": {},
   "outputs": [],
   "source": [
    "from utils import loader\n",
    "from utils import debugger \n",
    "from utils import preprocessing as pp \n",
    "from utils import misc\n",
    "import implementations as impl\n",
    "import cost\n",
    "import model"
   ]
  },
  {
   "cell_type": "code",
   "execution_count": 28,
   "metadata": {},
   "outputs": [],
   "source": [
    "error_value = -999.0\n",
    "seed = 114"
   ]
  },
  {
   "cell_type": "code",
   "execution_count": 29,
   "metadata": {},
   "outputs": [],
   "source": [
    "DATA_TRAIN_PATH = '../data/train.csv' # TODO: download train data and supply path here \n",
    "y, x, ids = loader.load_csv_data(DATA_TRAIN_PATH)"
   ]
  },
  {
   "cell_type": "code",
   "execution_count": 30,
   "metadata": {},
   "outputs": [],
   "source": [
    "to_replace = [(error_value, 'most_frequent')]\n",
    "\n",
    "x_split, y_split = pp.preprocess_jet_num(x, y, to_replace, do_normalise=False, add_bias=True)\n",
    "\n",
    "group = 2\n",
    "tx = x_split[group]\n",
    "y = y_split[group]\n",
    "\n",
    "nb_features = tx.shape[1]\n",
    "\n",
    "train_data, test_data = misc.random_data_split(y, tx, k_fold=10)\n",
    "tx, y = train_data\n",
    "tx_te, y_te = test_data"
   ]
  },
  {
   "cell_type": "code",
   "execution_count": 84,
   "metadata": {},
   "outputs": [],
   "source": [
    "from sklearn.decomposition import PCA\n",
    "\n",
    "pca = PCA(30)  # project from 64 to 2 dimensions\n",
    "tx_pca = pca.fit_transform(tx)\n",
    "pca = PCA(30) \n",
    "tx_te_pca = pca.fit_transform(tx_te)"
   ]
  },
  {
   "cell_type": "code",
   "execution_count": 85,
   "metadata": {},
   "outputs": [
    {
     "data": {
      "text/plain": [
       "(65286, 30)"
      ]
     },
     "execution_count": 85,
     "metadata": {},
     "output_type": "execute_result"
    }
   ],
   "source": [
    "tx_pca.shape"
   ]
  },
  {
   "cell_type": "code",
   "execution_count": null,
   "metadata": {},
   "outputs": [],
   "source": []
  },
  {
   "cell_type": "code",
   "execution_count": 86,
   "metadata": {},
   "outputs": [],
   "source": [
    "# Baseline\n",
    "learning_param = {\n",
    "    'max_iters' : 200,\n",
    "    'gamma': 1e-7,\n",
    "    'lambda_': 1e-6\n",
    "}\n",
    "\n",
    "    \n",
    "w_initial = np.random.uniform(0,1,size=nb_features) \n",
    "model_lr = model.Model('ridge_regression', w_initial, learning_param, debug=True)"
   ]
  },
  {
   "cell_type": "code",
   "execution_count": 87,
   "metadata": {},
   "outputs": [
    {
     "name": "stdout",
     "output_type": "stream",
     "text": [
      "learning weights...\n",
      "done.\n"
     ]
    }
   ],
   "source": [
    "model_lr.learn_weights(y, tx_pca)"
   ]
  },
  {
   "cell_type": "code",
   "execution_count": 88,
   "metadata": {},
   "outputs": [
    {
     "name": "stdout",
     "output_type": "stream",
     "text": [
      "Test accuracy 0.6367521367521367\n",
      "train accuracy 0.724290046870692\n"
     ]
    }
   ],
   "source": [
    "y_ = model_lr.predict(tx_te_pca)\n",
    "print('Test accuracy', misc.accuracy(y_te, y_))\n",
    "\n",
    "y_ = model_lr.predict(tx_pca)\n",
    "print('train accuracy', misc.accuracy(y, y_))"
   ]
  },
  {
   "cell_type": "code",
   "execution_count": 47,
   "metadata": {},
   "outputs": [],
   "source": [
    "# Baseline\n",
    "learning_param = {\n",
    "    'max_iters' : 200,\n",
    "    'gamma': 1e-8,\n",
    "    'lambda_': 1e-6\n",
    "}\n",
    "\n",
    "    \n",
    "w_initial = np.random.uniform(0,1,size=nb_features) \n",
    "model_lr = model.Model('logistic_regression', w_initial, learning_param, debug=True)"
   ]
  },
  {
   "cell_type": "code",
   "execution_count": 48,
   "metadata": {},
   "outputs": [
    {
     "name": "stdout",
     "output_type": "stream",
     "text": [
      "learning weights...\n",
      "done.\n"
     ]
    },
    {
     "data": {
      "image/png": "[encoded data removed]",
      "text/plain": [
       "<Figure size 432x288 with 1 Axes>"
      ]
     },
     "metadata": {},
     "output_type": "display_data"
    }
   ],
   "source": [
    "model_lr.learn_weights(y, tx)\n",
    "model_lr.dbg.plot('loss')"
   ]
  },
  {
   "cell_type": "code",
   "execution_count": 49,
   "metadata": {},
   "outputs": [
    {
     "name": "stdout",
     "output_type": "stream",
     "text": [
      "Test accuracy 0.584091535704439\n",
      "train accuracy 0.5838924118494011\n"
     ]
    }
   ],
   "source": [
    "y_ = model_lr.predict(tx_te)\n",
    "print('Test accuracy', misc.accuracy(y_te, y_))\n",
    "\n",
    "y_ = model_lr.predict(tx)\n",
    "print('train accuracy', misc.accuracy(y, y_))"
   ]
  },
  {
   "cell_type": "code",
   "execution_count": null,
   "metadata": {},
   "outputs": [],
   "source": []
  }
 ],
 "metadata": {
  "kernelspec": {
   "display_name": "Python 3",
   "language": "python",
   "name": "python3"
  },
  "language_info": {
   "codemirror_mode": {
    "name": "ipython",
    "version": 3
   },
   "file_extension": ".py",
   "mimetype": "text/x-python",
   "name": "python",
   "nbconvert_exporter": "python",
   "pygments_lexer": "ipython3",
   "version": "3.6.4"
  }
 },
 "nbformat": 4,
 "nbformat_minor": 2
}
