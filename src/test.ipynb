{
 "cells": [
  {
   "cell_type": "code",
   "execution_count": 133,
   "metadata": {},
   "outputs": [
    {
     "name": "stdout",
     "output_type": "stream",
     "text": [
      "The autoreload extension is already loaded. To reload it, use:\n",
      "  %reload_ext autoreload\n"
     ]
    }
   ],
   "source": [
    "# Useful starting lines\n",
    "%matplotlib inline\n",
    "import numpy as np\n",
    "import matplotlib.pyplot as plt\n",
    "%load_ext autoreload\n",
    "%autoreload 2"
   ]
  },
  {
   "cell_type": "code",
   "execution_count": 134,
   "metadata": {},
   "outputs": [],
   "source": [
    "from utils import loader\n",
    "from utils import debugger \n",
    "from utils import preprocessing as pp \n",
    "import implementations as impl\n",
    "import cost"
   ]
  },
  {
   "cell_type": "markdown",
   "metadata": {},
   "source": [
    "## Load the training data into feature matrix, class labels, and event ids:"
   ]
  },
  {
   "cell_type": "code",
   "execution_count": 135,
   "metadata": {},
   "outputs": [],
   "source": [
    "DATA_TRAIN_PATH = '../data/train.csv' # TODO: download train data and supply path here \n",
    "y, x, ids = loader.load_csv_data(DATA_TRAIN_PATH)\n",
    "N = len(y)"
   ]
  },
  {
   "cell_type": "markdown",
   "metadata": {},
   "source": [
    "### Preprocessing"
   ]
  },
  {
   "cell_type": "code",
   "execution_count": 136,
   "metadata": {},
   "outputs": [],
   "source": [
    "error_value = -999.0\n",
    "\n",
    "# Cleaned input array by replacing errors with most frequent values\n",
    "x_clean_mf = pp.clean_data(x, error_value, pp.most_frequent)\n",
    "\n",
    "# Cleaned input array by replacing errors with mean\n",
    "x_clean_mean = pp.clean_data(x, error_value, np.mean)\n",
    "\n",
    "# Cleaned input array by replacing errors with median\n",
    "x_clean_median = pp.clean_data(x, error_value, np.median)"
   ]
  },
  {
   "cell_type": "code",
   "execution_count": 137,
   "metadata": {},
   "outputs": [],
   "source": [
    "# Chosen cleaned data\n",
    "x_clean = x_clean_mf"
   ]
  },
  {
   "cell_type": "code",
   "execution_count": 138,
   "metadata": {},
   "outputs": [
    {
     "data": {
      "text/plain": [
       "(250000, 31)"
      ]
     },
     "execution_count": 138,
     "metadata": {},
     "output_type": "execute_result"
    }
   ],
   "source": [
    "# Compute new_tX : column of ones followed by tX\n",
    "first_col = np.ones((N, 1))\n",
    "tx = np.concatenate((first_col, x_clean), axis=1)\n",
    "tx.shape"
   ]
  },
  {
   "cell_type": "code",
   "execution_count": 139,
   "metadata": {},
   "outputs": [],
   "source": [
    "w_across_impl = {}"
   ]
  },
  {
   "cell_type": "code",
   "execution_count": 140,
   "metadata": {},
   "outputs": [],
   "source": [
    "# Test for Gradient Descent Least squares.\n",
    "\n",
    "# Define the parameters of the algorithm.\n",
    "max_iters = 200\n",
    "gamma = 1e-6\n",
    "\n",
    "# Initialization\n",
    "w_initial = np.ones((31,))\n",
    "\n",
    "# Debugger\n",
    "dbg = debugger.Debugger(['loss', 'w'])\n",
    "\n",
    "# Start gradient descent.\n",
    "w, loss = impl.least_squares_GD(y, tx, w_initial, max_iters, gamma, debugger=dbg)"
   ]
  },
  {
   "cell_type": "code",
   "execution_count": 141,
   "metadata": {
    "scrolled": true
   },
   "outputs": [
    {
     "data": {
      "image/png": "[encoded data removed]",
      "text/plain": [
       "<Figure size 432x288 with 1 Axes>"
      ]
     },
     "metadata": {},
     "output_type": "display_data"
    },
    {
     "name": "stdout",
     "output_type": "stream",
     "text": [
      "step 200/200:\tloss: 922.4014724334551\n"
     ]
    }
   ],
   "source": [
    "dbg.plot('loss')\n",
    "dbg.print('loss', last_n=1)\n",
    "w_across_impl['GD_LS'] = w"
   ]
  },
  {
   "cell_type": "code",
   "execution_count": 142,
   "metadata": {},
   "outputs": [],
   "source": [
    "# Test for Stochastic Gradient Descent Least squares.\n",
    "\n",
    "# clear debugger\n",
    "dbg.clear()\n",
    "\n",
    "# Define the parameters of the algorithm.\n",
    "max_iters = 200\n",
    "gamma = 1e-6 # loss = 90047\n",
    "\n",
    "# Initialization\n",
    "w_initial = np.ones((31,))\n",
    "\n",
    "# Start gradient descent.\n",
    "w, loss = impl.least_squares_SGD(y, tx, w_initial, max_iters, gamma, debugger=dbg)"
   ]
  },
  {
   "cell_type": "code",
   "execution_count": 143,
   "metadata": {},
   "outputs": [
    {
     "data": {
      "image/png": "[encoded data removed]",
      "text/plain": [
       "<Figure size 432x288 with 1 Axes>"
      ]
     },
     "metadata": {},
     "output_type": "display_data"
    },
    {
     "name": "stdout",
     "output_type": "stream",
     "text": [
      "step 200/200:\tloss: 1097.0667887588315\n"
     ]
    }
   ],
   "source": [
    "dbg.plot('loss')\n",
    "dbg.print('loss', last_n=1)\n",
    "w_across_impl['SGD_LS'] = w"
   ]
  },
  {
   "cell_type": "code",
   "execution_count": 144,
   "metadata": {},
   "outputs": [],
   "source": [
    "# Test for Least squares with normal equations.\n",
    "\n",
    "w, loss = impl.least_squares(y, tx)"
   ]
  },
  {
   "cell_type": "code",
   "execution_count": 145,
   "metadata": {},
   "outputs": [],
   "source": [
    "w_across_impl['NE_LS'] = w"
   ]
  },
  {
   "cell_type": "code",
   "execution_count": 146,
   "metadata": {},
   "outputs": [
    {
     "name": "stdout",
     "output_type": "stream",
     "text": [
      "Error between GD_LS and SGD_LS is 0.20196098598326528\n",
      "Error between GD_LS and NE_LS is 6.255411437975912\n",
      "Error between NE_LS and SGD_LS is 6.249207003294512\n",
      "\n",
      "Norm of w: 5.346268418579422\n"
     ]
    }
   ],
   "source": [
    "eps = 10\n",
    "norm_w = np.linalg.norm(w)\n",
    "n_impl = len(w_across_impl)\n",
    "\n",
    "for i, impl1 in enumerate(w_across_impl):\n",
    "    for j, impl2 in enumerate(w_across_impl):\n",
    "        if(impl1 < impl2):\n",
    "            error = np.linalg.norm(w_across_impl[impl1] - w_across_impl[impl2])\n",
    "            print('Error between', impl1, 'and', impl2, 'is', error)\n",
    "            assert error < eps\n",
    "                \n",
    "print('\\nNorm of w:', norm_w)"
   ]
  },
  {
   "cell_type": "code",
   "execution_count": 147,
   "metadata": {},
   "outputs": [],
   "source": [
    "for impl_1 in w_across_impl:\n",
    "    for impl_2 in w_across_impl:\n",
    "        assert np.linalg.norm(w_across_impl[impl_1] - w_across_impl[impl_2]) < eps"
   ]
  },
  {
   "cell_type": "markdown",
   "metadata": {},
   "source": [
    "## Logistic regression test"
   ]
  },
  {
   "cell_type": "code",
   "execution_count": 140,
   "metadata": {},
   "outputs": [],
   "source": [
    "w = np.random.rand(tx.shape[1])\n"
   ]
  },
  {
   "cell_type": "code",
   "execution_count": 142,
   "metadata": {},
   "outputs": [
    {
     "name": "stderr",
     "output_type": "stream",
     "text": [
      "/Users/aleman/code/epfl/ml-project-1/src/cost.py:11: RuntimeWarning: overflow encountered in exp\n",
      "  return 1 / (1 + np.exp(-x))\n"
     ]
    },
    {
     "data": {
      "text/plain": [
       "array([-6.04840000e-01,  9.19024403e+01, -3.87470374e+01, -4.90499843e+01,\n",
       "       -3.85259479e+01,  2.83326145e+02,  2.01077679e+02,  2.83890792e+02,\n",
       "       -1.31996875e+00, -1.45168676e+01, -1.14290950e+02, -1.04208089e+00,\n",
       "        1.85932264e-01,  2.83820289e+02, -2.03202841e+01,  2.86424800e-03,\n",
       "       -5.36342000e-03, -3.05749068e+01,  8.63210800e-03, -1.92793480e-02,\n",
       "       -2.91050171e+01,  1.46560680e-02, -1.46173730e+02, -8.53208000e-01,\n",
       "        1.58583396e+02,  1.95526710e+02,  1.95528290e+02,  2.65229637e+02,\n",
       "        2.83936289e+02,  2.83928991e+02, -6.33957593e+01])"
      ]
     },
     "execution_count": 142,
     "metadata": {},
     "output_type": "execute_result"
    }
   ],
   "source": [
    "gr = cost.compute_gradient_logreg(y, tx, w)\n",
    "gr"
   ]
  },
  {
   "cell_type": "code",
   "execution_count": 144,
   "metadata": {},
   "outputs": [
    {
     "name": "stderr",
     "output_type": "stream",
     "text": [
      "/Users/aleman/code/epfl/ml-project-1/src/cost.py:30: RuntimeWarning: divide by zero encountered in log\n",
      "  loss = -(1/N) * (np.sum(np.log(y_[pos_mask])) + np.sum(np.log(1 - y_[~pos_mask])))\n"
     ]
    },
    {
     "data": {
      "text/plain": [
       "inf"
      ]
     },
     "execution_count": 144,
     "metadata": {},
     "output_type": "execute_result"
    }
   ],
   "source": [
    "loss = cost.compute_loss_ce(y, tx, w)\n",
    "loss"
   ]
  },
  {
   "cell_type": "code",
   "execution_count": 91,
   "metadata": {},
   "outputs": [],
   "source": [
    "# Define the parameters of the algorithm.\n",
    "max_iters = 50\n",
    "gamma = 0.0000001 \n",
    "\n",
    "# Initialization\n",
    "w_initial = np.ones((30,))"
   ]
  },
  {
   "cell_type": "code",
   "execution_count": 67,
   "metadata": {},
   "outputs": [],
   "source": [
    "debugger = debugger.Debugger(['loss', 'w'])"
   ]
  },
  {
   "cell_type": "code",
   "execution_count": 72,
   "metadata": {},
   "outputs": [
    {
     "name": "stdout",
     "output_type": "stream",
     "text": [
      "num_batch set to 1 as batch_size is None\n"
     ]
    },
    {
     "name": "stderr",
     "output_type": "stream",
     "text": [
      "/Users/aleman/code/epfl/ml-project-1/src/cost.py:12: RuntimeWarning: overflow encountered in exp\n",
      "  \n",
      "/Users/aleman/code/epfl/ml-project-1/src/cost.py:32: RuntimeWarning: divide by zero encountered in log\n",
      "  \n"
     ]
    }
   ],
   "source": [
    "impl.logistic_regression(y, tX, w_initial, max_iters, gamma, debugger=debugger)"
   ]
  },
  {
   "cell_type": "code",
   "execution_count": 73,
   "metadata": {},
   "outputs": [
    {
     "data": {
      "image/png": "[encoded data removed]",
      "text/plain": [
       "<Figure size 432x288 with 1 Axes>"
      ]
     },
     "metadata": {},
     "output_type": "display_data"
    }
   ],
   "source": [
    "debugger.plot('loss')"
   ]
  },
  {
   "cell_type": "code",
   "execution_count": null,
   "metadata": {},
   "outputs": [],
   "source": []
  }
 ],
 "metadata": {
  "anaconda-cloud": {},
  "kernelspec": {
   "display_name": "Python 3",
   "language": "python",
   "name": "python3"
  },
  "language_info": {
   "codemirror_mode": {
    "name": "ipython",
    "version": 3
   },
   "file_extension": ".py",
   "mimetype": "text/x-python",
   "name": "python",
   "nbconvert_exporter": "python",
   "pygments_lexer": "ipython3",
   "version": "3.6.5"
  }
 },
 "nbformat": 4,
 "nbformat_minor": 1
}
