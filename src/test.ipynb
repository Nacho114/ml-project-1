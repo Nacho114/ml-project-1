{
 "cells": [
  {
   "cell_type": "code",
   "execution_count": 216,
   "metadata": {},
   "outputs": [
    {
     "name": "stdout",
     "output_type": "stream",
     "text": [
      "The autoreload extension is already loaded. To reload it, use:\n",
      "  %reload_ext autoreload\n"
     ]
    }
   ],
   "source": [
    "# Useful starting lines\n",
    "%matplotlib inline\n",
    "import numpy as np\n",
    "import matplotlib.pyplot as plt\n",
    "%load_ext autoreload\n",
    "%autoreload 2\n",
    "\n",
    "# seed marche pas ici\n",
    "np.random.seed(114) "
   ]
  },
  {
   "cell_type": "code",
   "execution_count": 149,
   "metadata": {},
   "outputs": [],
   "source": [
    "from utils import loader\n",
    "from utils import debugger \n",
    "from utils import preprocessing as pp \n",
    "from utils import misc\n",
    "import implementations as impl\n",
    "import cost"
   ]
  },
  {
   "cell_type": "markdown",
   "metadata": {},
   "source": [
    "## Load the training data into feature matrix, class labels, and event ids:"
   ]
  },
  {
   "cell_type": "code",
   "execution_count": 109,
   "metadata": {},
   "outputs": [],
   "source": [
    "DATA_TRAIN_PATH = '../data/train.csv' # TODO: download train data and supply path here \n",
    "y, x, ids = loader.load_csv_data(DATA_TRAIN_PATH)\n",
    "N = len(y)"
   ]
  },
  {
   "cell_type": "markdown",
   "metadata": {},
   "source": [
    "### Preprocessing"
   ]
  },
  {
   "cell_type": "code",
   "execution_count": 110,
   "metadata": {},
   "outputs": [],
   "source": [
    "error_value = -999.0\n",
    "\n",
    "# Cleaned input array by replacing errors with most frequent values\n",
    "x_clean_mf = pp.clean_data(x, error_value, pp.most_frequent)\n",
    "\n",
    "# Cleaned input array by replacing errors with mean\n",
    "x_clean_mean = pp.clean_data(x, error_value, np.mean)\n",
    "\n",
    "# Cleaned input array by replacing errors with median\n",
    "x_clean_median = pp.clean_data(x, error_value, np.median)"
   ]
  },
  {
   "cell_type": "code",
   "execution_count": 111,
   "metadata": {},
   "outputs": [],
   "source": [
    "# Chosen cleaned data\n",
    "x_clean = x_clean_mf"
   ]
  },
  {
   "cell_type": "code",
   "execution_count": 112,
   "metadata": {},
   "outputs": [
    {
     "data": {
      "text/plain": [
       "(250000, 31)"
      ]
     },
     "execution_count": 112,
     "metadata": {},
     "output_type": "execute_result"
    }
   ],
   "source": [
    "# Compute new_tX : column of ones followed by tX\n",
    "first_col = np.ones((N, 1))\n",
    "tx = np.concatenate((first_col, x_clean), axis=1)\n",
    "tx.shape"
   ]
  },
  {
   "cell_type": "code",
   "execution_count": 115,
   "metadata": {},
   "outputs": [
    {
     "data": {
      "text/plain": [
       "(250000, 30)"
      ]
     },
     "execution_count": 115,
     "metadata": {},
     "output_type": "execute_result"
    }
   ],
   "source": [
    "# Normalised version of the data (without the 1's column)\n",
    "x_normal = pp.normalise(x_clean)\n",
    "x_normal.shape"
   ]
  },
  {
   "cell_type": "code",
   "execution_count": 7,
   "metadata": {},
   "outputs": [],
   "source": [
    "w_across_impl = {}"
   ]
  },
  {
   "cell_type": "code",
   "execution_count": 8,
   "metadata": {},
   "outputs": [],
   "source": [
    "# Test for Gradient Descent Least squares.\n",
    "\n",
    "# Define the parameters of the algorithm.\n",
    "max_iters = 200\n",
    "gamma = 1e-6\n",
    "\n",
    "# Initialization\n",
    "w_initial = np.ones((31,))\n",
    "\n",
    "# Debugger\n",
    "dbg = debugger.Debugger(['loss', 'w'])\n",
    "\n",
    "# Start gradient descent.\n",
    "w, loss = impl.least_squares_GD(y, tx, w_initial, max_iters, gamma, debugger=dbg)"
   ]
  },
  {
   "cell_type": "code",
   "execution_count": 9,
   "metadata": {
    "scrolled": true
   },
   "outputs": [
    {
     "data": {
      "image/png": "[encoded data removed]",
      "text/plain": [
       "<Figure size 432x288 with 1 Axes>"
      ]
     },
     "metadata": {},
     "output_type": "display_data"
    },
    {
     "name": "stdout",
     "output_type": "stream",
     "text": [
      "step 200/200:\tloss: 922.4014724334556\n"
     ]
    }
   ],
   "source": [
    "dbg.plot('loss')\n",
    "dbg.print('loss', last_n=1)\n",
    "w_across_impl['GD_LS'] = w"
   ]
  },
  {
   "cell_type": "code",
   "execution_count": 10,
   "metadata": {},
   "outputs": [],
   "source": [
    "# Test for Stochastic Gradient Descent Least squares.\n",
    "\n",
    "# clear debugger\n",
    "dbg.clear()\n",
    "\n",
    "# Define the parameters of the algorithm.\n",
    "max_iters = 200\n",
    "gamma = 1e-6 # loss = 90047\n",
    "\n",
    "# Initialization\n",
    "w_initial = np.ones((31,))\n",
    "\n",
    "# Start gradient descent.\n",
    "w, loss = impl.least_squares_SGD(y, tx, w_initial, max_iters, gamma, debugger=dbg)"
   ]
  },
  {
   "cell_type": "code",
   "execution_count": 11,
   "metadata": {},
   "outputs": [
    {
     "data": {
      "image/png": "[encoded data removed]",
      "text/plain": [
       "<Figure size 432x288 with 1 Axes>"
      ]
     },
     "metadata": {},
     "output_type": "display_data"
    },
    {
     "name": "stdout",
     "output_type": "stream",
     "text": [
      "step 200/200:\tloss: 1212.4604531082496\n"
     ]
    }
   ],
   "source": [
    "dbg.plot('loss')\n",
    "dbg.print('loss', last_n=1)\n",
    "w_across_impl['SGD_LS'] = w"
   ]
  },
  {
   "cell_type": "code",
   "execution_count": 12,
   "metadata": {},
   "outputs": [],
   "source": [
    "# Test for Least squares with normal equations.\n",
    "w, loss = impl.least_squares(y, tx)"
   ]
  },
  {
   "cell_type": "code",
   "execution_count": 13,
   "metadata": {},
   "outputs": [],
   "source": [
    "w_across_impl['NE_LS'] = w"
   ]
  },
  {
   "cell_type": "code",
   "execution_count": 14,
   "metadata": {},
   "outputs": [
    {
     "name": "stdout",
     "output_type": "stream",
     "text": [
      "Error between GD_LS and SGD_LS is 0.3501611570017498\n",
      "Error between GD_LS and NE_LS is 6.255411439484439\n",
      "Error between NE_LS and SGD_LS is 6.255608821788433\n",
      "\n",
      "Norm of w: 5.346268420763186\n"
     ]
    }
   ],
   "source": [
    "eps = 10\n",
    "norm_w = np.linalg.norm(w)\n",
    "n_impl = len(w_across_impl)\n",
    "\n",
    "for i, impl1 in enumerate(w_across_impl):\n",
    "    for j, impl2 in enumerate(w_across_impl):\n",
    "        if(impl1 < impl2):\n",
    "            error = np.linalg.norm(w_across_impl[impl1] - w_across_impl[impl2])\n",
    "            print('Error between', impl1, 'and', impl2, 'is', error)\n",
    "            assert error < eps\n",
    "                \n",
    "print('\\nNorm of w:', norm_w)"
   ]
  },
  {
   "cell_type": "code",
   "execution_count": 147,
   "metadata": {},
   "outputs": [],
   "source": [
    "for impl_1 in w_across_impl:\n",
    "    for impl_2 in w_across_impl:\n",
    "        assert np.linalg.norm(w_across_impl[impl_1] - w_across_impl[impl_2]) < eps"
   ]
  },
  {
   "cell_type": "markdown",
   "metadata": {},
   "source": [
    "## Logistic regression test"
   ]
  },
  {
   "cell_type": "code",
   "execution_count": 223,
   "metadata": {},
   "outputs": [
    {
     "name": "stdout",
     "output_type": "stream",
     "text": [
      "0.593708\n"
     ]
    }
   ],
   "source": [
    "# Random guess (why above .6?)\n",
    "\n",
    "w = np.random.uniform(0,1,size=nb_features)     \n",
    "z_ = cost.sigmoid(x_normal @ w)\n",
    "y_ = misc.get_predictions(z_)\n",
    "\n",
    "print(misc.accuracy(y, y_))"
   ]
  },
  {
   "cell_type": "code",
   "execution_count": 224,
   "metadata": {},
   "outputs": [],
   "source": [
    "# Test of log reg GD\n",
    "\n",
    "# Define the parameters of the algorithm.\n",
    "max_iters = 200\n",
    "gamma = 1e-3\n",
    "\n",
    "# Initialization\n",
    "nb_features = x_normal.shape[1]\n",
    "w_initial = np.random.uniform(0,1,size=nb_features)     \n",
    "dbg = debugger.Debugger(['loss', 'w'])\n",
    "\n",
    "w, loss = impl.logistic_regression(y, x_normal, w_initial, max_iters, gamma, debugger=dbg)"
   ]
  },
  {
   "cell_type": "code",
   "execution_count": 225,
   "metadata": {},
   "outputs": [
    {
     "data": {
      "image/png": "[encoded data removed]",
      "text/plain": [
       "<Figure size 432x288 with 1 Axes>"
      ]
     },
     "metadata": {},
     "output_type": "display_data"
    }
   ],
   "source": [
    "dbg.plot('loss')"
   ]
  },
  {
   "cell_type": "code",
   "execution_count": 220,
   "metadata": {},
   "outputs": [
    {
     "name": "stdout",
     "output_type": "stream",
     "text": [
      "0.595052\n"
     ]
    }
   ],
   "source": [
    "z_ = cost.sigmoid(x_normal @ w)\n",
    "y_ = misc.get_predictions(z_)\n",
    "\n",
    "print(misc.accuracy(y, y_))"
   ]
  },
  {
   "cell_type": "code",
   "execution_count": 141,
   "metadata": {},
   "outputs": [],
   "source": [
    "# Test of log reg GD\n",
    "\n",
    "# Define the parameters of the algorithm.\n",
    "max_iters = 50\n",
    "gamma = 1e-9\n",
    "lambda_ = 1e-3\n",
    "\n",
    "# Initialization\n",
    "nb_features = x_normal.shape[1]\n",
    "w_initial = np.random.uniform(0,1,size=nb_features)     \n",
    "dbg = debugger.Debugger(['loss', 'w'])\n",
    "\n",
    "w, loss = impl.reg_logistic_regression(y, x_normal, lambda_, w_initial, max_iters, gamma, debugger=dbg)"
   ]
  },
  {
   "cell_type": "code",
   "execution_count": 142,
   "metadata": {},
   "outputs": [
    {
     "data": {
      "image/png": "[encoded data removed]",
      "text/plain": [
       "<Figure size 432x288 with 1 Axes>"
      ]
     },
     "metadata": {},
     "output_type": "display_data"
    }
   ],
   "source": [
    "dbg.plot('loss')"
   ]
  },
  {
   "cell_type": "code",
   "execution_count": null,
   "metadata": {},
   "outputs": [],
   "source": []
  }
 ],
 "metadata": {
  "anaconda-cloud": {},
  "kernelspec": {
   "display_name": "Python 3",
   "language": "python",
   "name": "python3"
  },
  "language_info": {
   "codemirror_mode": {
    "name": "ipython",
    "version": 3
   },
   "file_extension": ".py",
   "mimetype": "text/x-python",
   "name": "python",
   "nbconvert_exporter": "python",
   "pygments_lexer": "ipython3",
   "version": "3.6.4"
  }
 },
 "nbformat": 4,
 "nbformat_minor": 1
}
