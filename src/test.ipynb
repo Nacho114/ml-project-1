{
 "cells": [
  {
   "cell_type": "code",
   "execution_count": 219,
   "metadata": {},
   "outputs": [
    {
     "name": "stdout",
     "output_type": "stream",
     "text": [
      "The autoreload extension is already loaded. To reload it, use:\n",
      "  %reload_ext autoreload\n"
     ]
    }
   ],
   "source": [
    "# Useful starting lines\n",
    "%matplotlib inline\n",
    "import numpy as np\n",
    "import matplotlib.pyplot as plt\n",
    "%load_ext autoreload\n",
    "%autoreload 2"
   ]
  },
  {
   "cell_type": "code",
   "execution_count": 152,
   "metadata": {},
   "outputs": [],
   "source": [
    "from utils import loader\n",
    "from utils import debugger \n",
    "from utils import preprocessing as pp \n",
    "from utils import misc\n",
    "import implementations as impl\n",
    "import cost"
   ]
  },
  {
   "cell_type": "code",
   "execution_count": 222,
   "metadata": {},
   "outputs": [],
   "source": [
    "error_value = -999.0\n",
    "seed = 114"
   ]
  },
  {
   "cell_type": "markdown",
   "metadata": {},
   "source": [
    "## Load the training data into feature matrix, class labels, and event ids:"
   ]
  },
  {
   "cell_type": "code",
   "execution_count": 221,
   "metadata": {},
   "outputs": [],
   "source": [
    "DATA_TRAIN_PATH = '../data/train.csv' # TODO: download train data and supply path here \n",
    "y, x, ids = loader.load_csv_data(DATA_TRAIN_PATH)\n",
    "\n",
    "nb_samples = x.shape[0]\n",
    "nb_features = x.shape[1]"
   ]
  },
  {
   "cell_type": "markdown",
   "metadata": {},
   "source": [
    "### Preprocessing"
   ]
  },
  {
   "cell_type": "code",
   "execution_count": 179,
   "metadata": {},
   "outputs": [],
   "source": [
    "# Cleaned input array by replacing errors with most frequent values\n",
    "x_clean_mf = pp.clean_data(x, error_value, pp.most_frequent)\n",
    "\n",
    "# Cleaned input array by replacing errors with mean\n",
    "x_clean_mean = pp.clean_data(x, error_value, np.mean)\n",
    "\n",
    "# Cleaned input array by replacing errors with median\n",
    "x_clean_median = pp.clean_data(x, error_value, np.median)"
   ]
  },
  {
   "cell_type": "code",
   "execution_count": 180,
   "metadata": {},
   "outputs": [],
   "source": [
    "# Chosen cleaned data\n",
    "x_clean = x_clean_mf"
   ]
  },
  {
   "cell_type": "code",
   "execution_count": 182,
   "metadata": {},
   "outputs": [
    {
     "data": {
      "text/plain": [
       "(250000, 31)"
      ]
     },
     "execution_count": 182,
     "metadata": {},
     "output_type": "execute_result"
    }
   ],
   "source": [
    "# Compute tx : column of ones followed by x\n",
    "first_col = np.ones((nb_samples, 1))\n",
    "tx = np.concatenate((first_col, x_clean), axis=1)\n",
    "tx.shape"
   ]
  },
  {
   "cell_type": "code",
   "execution_count": 194,
   "metadata": {},
   "outputs": [
    {
     "data": {
      "text/plain": [
       "(250000, 30)"
      ]
     },
     "execution_count": 194,
     "metadata": {},
     "output_type": "execute_result"
    }
   ],
   "source": [
    "# Normalised version of the data (without the 1's column)\n",
    "x_normal = pp.normalise(x_clean)\n",
    "x_normal.shape"
   ]
  },
  {
   "cell_type": "code",
   "execution_count": 195,
   "metadata": {},
   "outputs": [],
   "source": [
    "w_across_impl = {}"
   ]
  },
  {
   "cell_type": "code",
   "execution_count": 196,
   "metadata": {},
   "outputs": [],
   "source": [
    "# Test for Gradient Descent Least squares.\n",
    "\n",
    "# Define the parameters of the algorithm.\n",
    "max_iters = 200\n",
    "gamma = 1e-6\n",
    "\n",
    "# Initialization\n",
    "w_initial = np.ones((31,))\n",
    "\n",
    "# Debugger\n",
    "dbg = debugger.Debugger(['loss', 'w'])\n",
    "\n",
    "# Start gradient descent.\n",
    "w, loss = impl.least_squares_GD(y, tx, w_initial, max_iters, gamma, debugger=dbg)"
   ]
  },
  {
   "cell_type": "code",
   "execution_count": 197,
   "metadata": {
    "scrolled": true
   },
   "outputs": [
    {
     "data": {
      "image/png": "[encoded data removed]",
      "text/plain": [
       "<Figure size 432x288 with 1 Axes>"
      ]
     },
     "metadata": {},
     "output_type": "display_data"
    },
    {
     "name": "stdout",
     "output_type": "stream",
     "text": [
      "step 200/200:\tloss: 922.4014724334551\n"
     ]
    }
   ],
   "source": [
    "dbg.plot('loss')\n",
    "dbg.print('loss', last_n=1)\n",
    "w_across_impl['GD_LS'] = w"
   ]
  },
  {
   "cell_type": "code",
   "execution_count": 243,
   "metadata": {},
   "outputs": [],
   "source": [
    "# Test for Stochastic Gradient Descent Least squares.\n",
    "\n",
    "# clear debugger\n",
    "dbg.clear()\n",
    "\n",
    "# Define the parameters of the algorithm.\n",
    "max_iters = 200\n",
    "gamma = 1e-6 # loss = 90047\n",
    "\n",
    "# Initialization\n",
    "w_initial = np.ones((31,))\n",
    "\n",
    "# Start gradient descent.\n",
    "w, loss = impl.least_squares_SGD(y, tx, w_initial, max_iters, gamma, debugger=dbg)"
   ]
  },
  {
   "cell_type": "code",
   "execution_count": 246,
   "metadata": {},
   "outputs": [
    {
     "data": {
      "image/png": "[encoded data removed]",
      "text/plain": [
       "<Figure size 432x288 with 1 Axes>"
      ]
     },
     "metadata": {},
     "output_type": "display_data"
    },
    {
     "name": "stdout",
     "output_type": "stream",
     "text": [
      "step 200/200:\tloss: 943.606705047385\n"
     ]
    }
   ],
   "source": [
    "dbg.plot('loss')\n",
    "dbg.print('loss', last_n=1)\n",
    "w_across_impl['SGD_LS'] = w"
   ]
  },
  {
   "cell_type": "code",
   "execution_count": 240,
   "metadata": {},
   "outputs": [],
   "source": [
    "# Test for Least squares with normal equations.\n",
    "w, loss = impl.least_squares(y, tx)"
   ]
  },
  {
   "cell_type": "code",
   "execution_count": 241,
   "metadata": {},
   "outputs": [
    {
     "name": "stdout",
     "output_type": "stream",
     "text": [
      "loss: 0.3394990055769035\n"
     ]
    }
   ],
   "source": [
    "print('loss:', loss[0])\n",
    "w_across_impl['NE_LS'] = w"
   ]
  },
  {
   "cell_type": "code",
   "execution_count": 202,
   "metadata": {},
   "outputs": [
    {
     "name": "stdout",
     "output_type": "stream",
     "text": [
      "Error between GD_LS and SGD_LS is 0.2963540937651735\n",
      "Error between GD_LS and NE_LS is 6.255411437975912\n",
      "Error between NE_LS and SGD_LS is 6.288052317412405\n",
      "\n",
      "Norm of w: 5.346268418579422\n"
     ]
    }
   ],
   "source": [
    "eps = 10\n",
    "norm_w = np.linalg.norm(w)\n",
    "n_impl = len(w_across_impl)\n",
    "\n",
    "for i, impl1 in enumerate(w_across_impl):\n",
    "    for j, impl2 in enumerate(w_across_impl):\n",
    "        if(impl1 < impl2):\n",
    "            error = np.linalg.norm(w_across_impl[impl1] - w_across_impl[impl2])\n",
    "            print('Error between', impl1, 'and', impl2, 'is', error)\n",
    "            assert error < eps\n",
    "                \n",
    "print('\\nNorm of w:', norm_w)"
   ]
  },
  {
   "cell_type": "markdown",
   "metadata": {},
   "source": [
    "## Logistic regression test"
   ]
  },
  {
   "cell_type": "code",
   "execution_count": 229,
   "metadata": {},
   "outputs": [
    {
     "name": "stdout",
     "output_type": "stream",
     "text": [
      "0.593012\n"
     ]
    }
   ],
   "source": [
    "np.random.seed(seed)\n",
    "\n",
    "# Random guess (why above .6?)\n",
    "w = np.random.uniform(0,1,size=nb_features)     \n",
    "z_ = cost.sigmoid(x_normal @ w)\n",
    "y_ = misc.get_predictions(z_)\n",
    "\n",
    "print(misc.accuracy(y, y_))"
   ]
  },
  {
   "cell_type": "code",
   "execution_count": 256,
   "metadata": {},
   "outputs": [],
   "source": [
    "# Test of log reg GD\n",
    "\n",
    "# Define the parameters of the algorithm.\n",
    "max_iters = 200\n",
    "gamma = 1e-3\n",
    "\n",
    "# Initialization\n",
    "nb_features = x_normal.shape[1]\n",
    "w_initial = np.random.uniform(0,1,size=nb_features)     \n",
    "dbg = debugger.Debugger(['loss', 'w'])\n",
    "\n",
    "w, loss = impl.logistic_regression(y, x_normal, w_initial, max_iters, gamma, debugger=dbg)"
   ]
  },
  {
   "cell_type": "code",
   "execution_count": 257,
   "metadata": {},
   "outputs": [
    {
     "data": {
      "image/png": "[encoded data removed]",
      "text/plain": [
       "<Figure size 432x288 with 1 Axes>"
      ]
     },
     "metadata": {},
     "output_type": "display_data"
    },
    {
     "name": "stdout",
     "output_type": "stream",
     "text": [
      "step 200/200:\tloss: 1.7175645326288096\n"
     ]
    }
   ],
   "source": [
    "dbg.plot('loss')\n",
    "dbg.print('loss', last_n=1)\n",
    "w_across_impl['LR'] = w"
   ]
  },
  {
   "cell_type": "code",
   "execution_count": 260,
   "metadata": {},
   "outputs": [
    {
     "name": "stdout",
     "output_type": "stream",
     "text": [
      "0.589928\n"
     ]
    }
   ],
   "source": [
    "z_ = cost.sigmoid(x_normal @ w)\n",
    "y_ = misc.get_predictions(z_)\n",
    "\n",
    "print(misc.accuracy(y, y_))"
   ]
  },
  {
   "cell_type": "code",
   "execution_count": 261,
   "metadata": {},
   "outputs": [],
   "source": [
    "# Test of log reg GD\n",
    "\n",
    "# Define the parameters of the algorithm.\n",
    "max_iters = 200\n",
    "gamma = 1e-9\n",
    "lambda_ = 1e-3\n",
    "\n",
    "# Initialization\n",
    "nb_features = x_normal.shape[1]\n",
    "w_initial = np.random.uniform(0,1,size=nb_features)     \n",
    "dbg = debugger.Debugger(['loss', 'w'])\n",
    "\n",
    "w, loss = impl.reg_logistic_regression(y, x_normal, lambda_, w_initial, max_iters, gamma, debugger=dbg)"
   ]
  },
  {
   "cell_type": "code",
   "execution_count": 263,
   "metadata": {},
   "outputs": [
    {
     "data": {
      "image/png": "[encoded data removed]",
      "text/plain": [
       "<Figure size 432x288 with 1 Axes>"
      ]
     },
     "metadata": {},
     "output_type": "display_data"
    },
    {
     "name": "stdout",
     "output_type": "stream",
     "text": [
      "step 200/200:\tloss: 1.6747077110247657\n"
     ]
    }
   ],
   "source": [
    "dbg.plot('loss')\n",
    "dbg.print('loss', last_n=1)\n",
    "w_across_impl['RLR'] = w"
   ]
  },
  {
   "cell_type": "code",
   "execution_count": 264,
   "metadata": {},
   "outputs": [
    {
     "name": "stdout",
     "output_type": "stream",
     "text": [
      "Error between GD_LS and SGD_LS is 0.39194042531911905\n",
      "Error between GD_LS and NE_LS is 6.255411437975912\n"
     ]
    },
    {
     "ename": "ValueError",
     "evalue": "operands could not be broadcast together with shapes (31,) (30,) ",
     "output_type": "error",
     "traceback": [
      "\u001b[0;31m---------------------------------------------------------------------------\u001b[0m",
      "\u001b[0;31mValueError\u001b[0m                                Traceback (most recent call last)",
      "\u001b[0;32m<ipython-input-264-675a5a416af4>\u001b[0m in \u001b[0;36m<module>\u001b[0;34m()\u001b[0m\n\u001b[1;32m      6\u001b[0m     \u001b[0;32mfor\u001b[0m \u001b[0mj\u001b[0m\u001b[0;34m,\u001b[0m \u001b[0mimpl2\u001b[0m \u001b[0;32min\u001b[0m \u001b[0menumerate\u001b[0m\u001b[0;34m(\u001b[0m\u001b[0mw_across_impl\u001b[0m\u001b[0;34m)\u001b[0m\u001b[0;34m:\u001b[0m\u001b[0;34m\u001b[0m\u001b[0m\n\u001b[1;32m      7\u001b[0m         \u001b[0;32mif\u001b[0m\u001b[0;34m(\u001b[0m\u001b[0mimpl1\u001b[0m \u001b[0;34m<\u001b[0m \u001b[0mimpl2\u001b[0m\u001b[0;34m)\u001b[0m\u001b[0;34m:\u001b[0m\u001b[0;34m\u001b[0m\u001b[0m\n\u001b[0;32m----> 8\u001b[0;31m             \u001b[0merror\u001b[0m \u001b[0;34m=\u001b[0m \u001b[0mnp\u001b[0m\u001b[0;34m.\u001b[0m\u001b[0mlinalg\u001b[0m\u001b[0;34m.\u001b[0m\u001b[0mnorm\u001b[0m\u001b[0;34m(\u001b[0m\u001b[0mw_across_impl\u001b[0m\u001b[0;34m[\u001b[0m\u001b[0mimpl1\u001b[0m\u001b[0;34m]\u001b[0m \u001b[0;34m-\u001b[0m \u001b[0mw_across_impl\u001b[0m\u001b[0;34m[\u001b[0m\u001b[0mimpl2\u001b[0m\u001b[0;34m]\u001b[0m\u001b[0;34m)\u001b[0m\u001b[0;34m\u001b[0m\u001b[0m\n\u001b[0m\u001b[1;32m      9\u001b[0m             \u001b[0mprint\u001b[0m\u001b[0;34m(\u001b[0m\u001b[0;34m'Error between'\u001b[0m\u001b[0;34m,\u001b[0m \u001b[0mimpl1\u001b[0m\u001b[0;34m,\u001b[0m \u001b[0;34m'and'\u001b[0m\u001b[0;34m,\u001b[0m \u001b[0mimpl2\u001b[0m\u001b[0;34m,\u001b[0m \u001b[0;34m'is'\u001b[0m\u001b[0;34m,\u001b[0m \u001b[0merror\u001b[0m\u001b[0;34m)\u001b[0m\u001b[0;34m\u001b[0m\u001b[0m\n\u001b[1;32m     10\u001b[0m             \u001b[0;32massert\u001b[0m \u001b[0merror\u001b[0m \u001b[0;34m<\u001b[0m \u001b[0meps\u001b[0m\u001b[0;34m\u001b[0m\u001b[0m\n",
      "\u001b[0;31mValueError\u001b[0m: operands could not be broadcast together with shapes (31,) (30,) "
     ]
    }
   ],
   "source": [
    "eps = 10\n",
    "norm_w = np.linalg.norm(w)\n",
    "n_impl = len(w_across_impl)\n",
    "\n",
    "for i, impl1 in enumerate(w_across_impl):\n",
    "    for j, impl2 in enumerate(w_across_impl):\n",
    "        if(impl1 < impl2):\n",
    "            error = np.linalg.norm(w_across_impl[impl1] - w_across_impl[impl2])\n",
    "            print('Error between', impl1, 'and', impl2, 'is', error)\n",
    "            assert error < eps\n",
    "                \n",
    "print('\\nNorm of w:', norm_w)"
   ]
  }
 ],
 "metadata": {
  "anaconda-cloud": {},
  "kernelspec": {
   "display_name": "Python 3",
   "language": "python",
   "name": "python3"
  },
  "language_info": {
   "codemirror_mode": {
    "name": "ipython",
    "version": 3
   },
   "file_extension": ".py",
   "mimetype": "text/x-python",
   "name": "python",
   "nbconvert_exporter": "python",
   "pygments_lexer": "ipython3",
   "version": "3.6.5"
  }
 },
 "nbformat": 4,
 "nbformat_minor": 1
}
