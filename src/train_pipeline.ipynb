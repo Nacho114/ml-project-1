{
 "cells": [
  {
   "cell_type": "code",
   "execution_count": 6,
   "metadata": {},
   "outputs": [
    {
     "name": "stdout",
     "output_type": "stream",
     "text": [
      "The autoreload extension is already loaded. To reload it, use:\n",
      "  %reload_ext autoreload\n"
     ]
    }
   ],
   "source": [
    "# Useful starting lines\n",
    "%matplotlib inline\n",
    "import numpy as np\n",
    "import matplotlib.pyplot as plt\n",
    "%load_ext autoreload\n",
    "%autoreload 2"
   ]
  },
  {
   "cell_type": "code",
   "execution_count": 7,
   "metadata": {},
   "outputs": [],
   "source": [
    "from utils import loader\n",
    "from utils import debugger \n",
    "from utils import preprocessing as pp \n",
    "from utils import misc\n",
    "from utils import constant\n",
    "import implementations as impl\n",
    "import cost\n",
    "import model"
   ]
  },
  {
   "cell_type": "code",
   "execution_count": 8,
   "metadata": {},
   "outputs": [],
   "source": [
    "DATA_TRAIN_PATH = '../data/train.csv' # TODO: download train data and supply path here \n",
    "y, x, ids = loader.load_csv_data(DATA_TRAIN_PATH)"
   ]
  },
  {
   "cell_type": "code",
   "execution_count": 85,
   "metadata": {},
   "outputs": [
    {
     "name": "stdout",
     "output_type": "stream",
     "text": [
      "79.49992489814758\n"
     ]
    }
   ],
   "source": [
    "to_replace = [(constant.UNDEF_VAL, 'most_frequent')]\n",
    "\n",
    "augment_param_0 = {\n",
    "    'degrees': [2],\n",
    "    'add_bias' : True,\n",
    "    'add_cross': True,\n",
    "    'add_tanh': False,\n",
    "    'cumulative': False\n",
    "}\n",
    "\n",
    "# augment_param_1 = {\n",
    "#     'degrees': [2],\n",
    "#     'add_bias' : True,\n",
    "#     'add_cross': True,\n",
    "#     'add_tanh': True,\n",
    "#     'cumulative': True\n",
    "# }\n",
    "\n",
    "# augment_param_23 = {\n",
    "#     'degrees': [2],\n",
    "#     'add_bias' : True,\n",
    "#     'add_cross': True,\n",
    "#     'add_tanh': True,\n",
    "#     'cumulative': True\n",
    "# }\n",
    "\n",
    "augment_param_1 = augment_param_2 = None\n",
    "\n",
    "augment_param_list = [augment_param_0, augment_param_1, augment_param_23]\n",
    "\n",
    "import time\n",
    "\n",
    "start = time.time()\n",
    "\n",
    "\n",
    "x_split, y_split, _ = pp.preprocess_jet_num(x, y, to_replace, do_normalise=False, augment_param_list=augment_param_list)\n",
    "\n",
    "end = time.time()\n",
    "print(end - start)"
   ]
  },
  {
   "cell_type": "code",
   "execution_count": 72,
   "metadata": {},
   "outputs": [
    {
     "data": {
      "text/plain": [
       "(72543, 465)"
      ]
     },
     "execution_count": 72,
     "metadata": {},
     "output_type": "execute_result"
    }
   ],
   "source": [
    "x_split[2].shape"
   ]
  },
  {
   "cell_type": "code",
   "execution_count": 86,
   "metadata": {},
   "outputs": [],
   "source": [
    "data_part = []\n",
    "\n",
    "nb_samples = []\n",
    "for x_, y_ in zip(x_split, y_split):\n",
    "    train_data = x_, y_\n",
    "    data = {'train': train_data, 'test': None}\n",
    "    data_part.append(data)\n",
    "    nb_samples.append(len(train_data[1]))"
   ]
  },
  {
   "cell_type": "code",
   "execution_count": 87,
   "metadata": {},
   "outputs": [
    {
     "name": "stdout",
     "output_type": "stream",
     "text": [
      "learning weights...\n",
      "done.\n",
      "learning weights...\n",
      "done.\n",
      "learning weights...\n",
      "done.\n"
     ]
    }
   ],
   "source": [
    "np.random.seed(114)\n",
    "models = []\n",
    "learning_param = { 'lambda_': 1e-6 }\n",
    "\n",
    "acc_list = []\n",
    "\n",
    "for idx in range(len(data_part)):\n",
    "    x_tr, y_tr = data_part[idx]['train']\n",
    "    nb_features = x_tr.shape[1]\n",
    "    \n",
    "    w_initial = np.random.uniform(0,1,size=nb_features) \n",
    "    model_ls = model.Model('ridge_regression', w_initial, learning_param, debug=True)\n",
    "    \n",
    "    model_ls.learn_weights(y_tr, x_tr)\n",
    "    models.append(model_ls)\n",
    "\n",
    "    y_ = model_ls.predict(x_tr)\n",
    "    acc_list.append(misc.accuracy(y_tr, y_))"
   ]
  },
  {
   "cell_type": "code",
   "execution_count": 88,
   "metadata": {},
   "outputs": [
    {
     "data": {
      "text/plain": [
       "[0.8315034079649295, 0.6941220468379242, 0.7994430889265677]"
      ]
     },
     "execution_count": 88,
     "metadata": {},
     "output_type": "execute_result"
    }
   ],
   "source": [
    "acc_list"
   ]
  },
  {
   "cell_type": "code",
   "execution_count": null,
   "metadata": {},
   "outputs": [],
   "source": [
    "0.834 (all except add_tanh, cum)"
   ]
  },
  {
   "cell_type": "code",
   "execution_count": 69,
   "metadata": {},
   "outputs": [
    {
     "data": {
      "text/plain": [
       "0.803068"
      ]
     },
     "execution_count": 69,
     "metadata": {},
     "output_type": "execute_result"
    }
   ],
   "source": [
    "avg_acc = np.dot(acc_list, nb_samples) / sum(nb_samples)\n",
    "avg_acc"
   ]
  },
  {
   "cell_type": "code",
   "execution_count": null,
   "metadata": {},
   "outputs": [],
   "source": [
    "# Save weights\n",
    "weights = [trained_model.w for trained_model in models]\n",
    "file_name = 'weights.npy'\n",
    "np.save(file_name, weights) # save"
   ]
  },
  {
   "cell_type": "code",
   "execution_count": null,
   "metadata": {},
   "outputs": [],
   "source": [
    "weights[2].shape"
   ]
  },
  {
   "cell_type": "code",
   "execution_count": null,
   "metadata": {},
   "outputs": [],
   "source": [
    "weights_from_file = np.load(file_name) # load"
   ]
  },
  {
   "cell_type": "code",
   "execution_count": null,
   "metadata": {},
   "outputs": [],
   "source": [
    "weights_from_file[0].shape"
   ]
  },
  {
   "cell_type": "code",
   "execution_count": 89,
   "metadata": {},
   "outputs": [],
   "source": [
    "acc_list = [0.834, 0.824, 0.849]"
   ]
  },
  {
   "cell_type": "code",
   "execution_count": 90,
   "metadata": {},
   "outputs": [
    {
     "data": {
      "text/plain": [
       "0.8352508199999998"
      ]
     },
     "execution_count": 90,
     "metadata": {},
     "output_type": "execute_result"
    }
   ],
   "source": [
    "avg_acc = np.dot(acc_list, nb_samples) / sum(nb_samples)\n",
    "avg_acc"
   ]
  },
  {
   "cell_type": "code",
   "execution_count": null,
   "metadata": {},
   "outputs": [],
   "source": []
  }
 ],
 "metadata": {
  "kernelspec": {
   "display_name": "Python 3",
   "language": "python",
   "name": "python3"
  }
 },
 "nbformat": 4,
 "nbformat_minor": 2
}
